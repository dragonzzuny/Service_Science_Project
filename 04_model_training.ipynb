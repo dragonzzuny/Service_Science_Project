{
 "cells": [
  {
   "cell_type": "code",
   "execution_count": 11,
   "id": "a3688f13",
   "metadata": {},
   "outputs": [
    {
     "name": "stdout",
     "output_type": "stream",
     "text": [
      "Logical CPU cores: 16\n",
      "Physical CPU cores: 10\n",
      "Logical CPU cores:  16\n"
     ]
    }
   ],
   "source": [
    "import os\n",
    "print(\"Logical CPU cores:\", os.cpu_count())\n",
    "import psutil\n",
    "print(\"Physical CPU cores:\", psutil.cpu_count(logical=False))\n",
    "print(\"Logical CPU cores: \", psutil.cpu_count(logical=True))\n"
   ]
  },
  {
   "cell_type": "code",
   "execution_count": 12,
   "id": "680ddaad",
   "metadata": {},
   "outputs": [
    {
     "name": "stdout",
     "output_type": "stream",
     "text": [
      "사용 장치: cuda\n",
      "기본 라이브러리 로드 완료\n"
     ]
    }
   ],
   "source": [
    "## 1. 라이브러리 불러오기\n",
    "\n",
    "import pickle\n",
    "import os\n",
    "os.environ[\"CUDA_LAUNCH_BLOCKING\"] = \"1\"\n",
    "import numpy as np\n",
    "import pandas as pd\n",
    "import matplotlib.pyplot as plt\n",
    "import seaborn as sns\n",
    "from tqdm import tqdm\n",
    "import time\n",
    "import copy\n",
    "import random\n",
    "\n",
    "# PyTorch 관련 라이브러리\n",
    "import torch\n",
    "import torch.nn as nn\n",
    "import torch.nn.functional as F\n",
    "import torch.optim as optim\n",
    "from torch.utils.data import Dataset, DataLoader\n",
    "from torch.amp import autocast, GradScaler\n",
    "\n",
    "# 시각화 설정\n",
    "plt.style.use('seaborn-v0_8-whitegrid')\n",
    "plt.rcParams['figure.figsize'] = (12, 8)\n",
    "sns.set(font_scale=1.2)\n",
    "\n",
    "# 랜덤 시드 설정\n",
    "SEED = 42\n",
    "random.seed(SEED)\n",
    "np.random.seed(SEED)\n",
    "torch.manual_seed(SEED)\n",
    "torch.cuda.manual_seed_all(SEED)\n",
    "torch.backends.cudnn.deterministic = True\n",
    "\n",
    "# GPU 사용 가능 여부 확인\n",
    "device = torch.device('cuda' if torch.cuda.is_available() else 'cpu')\n",
    "print(f\"사용 장치: {device}\")\n",
    "\n",
    "print(\"기본 라이브러리 로드 완료\")\n"
   ]
  },
  {
   "cell_type": "code",
   "execution_count": 13,
   "id": "8df19b3b",
   "metadata": {},
   "outputs": [
    {
     "name": "stdout",
     "output_type": "stream",
     "text": [
      "GPU 테스트 시작\n",
      "행렬 곱셈 시간: 2.48 ms\n",
      "GPU가 정상 작동합니다!\n"
     ]
    }
   ],
   "source": [
    "import torch\n",
    "\n",
    "# GPU 상태 테스트\n",
    "print(\"GPU 테스트 시작\")\n",
    "if torch.cuda.is_available():\n",
    "    # 랜덤 텐서 생성\n",
    "    x = torch.randn(1000, 1000).cuda()\n",
    "    y = torch.randn(1000, 1000).cuda()\n",
    "    \n",
    "    # 행렬 곱\n",
    "    start_time = torch.cuda.Event(enable_timing=True)\n",
    "    end_time = torch.cuda.Event(enable_timing=True)\n",
    "    \n",
    "    start_time.record()\n",
    "    z = torch.matmul(x, y)\n",
    "    end_time.record()\n",
    "    \n",
    "    # CUDA 이벤트 동기화\n",
    "    torch.cuda.synchronize()\n",
    "    \n",
    "    print(f\"행렬 곱셈 시간: {start_time.elapsed_time(end_time):.2f} ms\")\n",
    "    print(\"GPU가 정상 작동합니다!\")\n",
    "else:\n",
    "    print(\"GPU를 사용할 수 없습니다.\")"
   ]
  },
  {
   "cell_type": "code",
   "execution_count": 14,
   "id": "54adb641",
   "metadata": {},
   "outputs": [
    {
     "name": "stdout",
     "output_type": "stream",
     "text": [
      "CUDA available: True\n",
      "CUDA device count: 1\n",
      "Current CUDA device: 0\n",
      "Device name: NVIDIA GeForce RTX 4070 Laptop GPU\n",
      "x_cuda device: cuda:0\n",
      "PyTorch version: 2.5.1+cu124\n",
      "CUDA version: 12.4\n",
      "cuDNN version: 90100\n"
     ]
    }
   ],
   "source": [
    "import torch\n",
    "\n",
    "print(\"CUDA available:\", torch.cuda.is_available())\n",
    "print(\"CUDA device count:\", torch.cuda.device_count())\n",
    "if torch.cuda.is_available():\n",
    "    print(\"Current CUDA device:\", torch.cuda.current_device())\n",
    "    print(\"Device name:\", torch.cuda.get_device_name(0))\n",
    "    # 실제로 텐서를 GPU로 옮겨 볼게요\n",
    "    x = torch.randn(1000, 1000)\n",
    "    x_cuda = x.to(\"cuda\")\n",
    "    print(\"x_cuda device:\", x_cuda.device)\n",
    "\n",
    "import torch\n",
    "print(f\"PyTorch version: {torch.__version__}\")\n",
    "print(f\"CUDA version: {torch.version.cuda}\")\n",
    "print(f\"cuDNN version: {torch.backends.cudnn.version()}\")\n"
   ]
  },
  {
   "cell_type": "code",
   "execution_count": 15,
   "id": "6e48adca",
   "metadata": {},
   "outputs": [
    {
     "name": "stdout",
     "output_type": "stream",
     "text": [
      "train_df 로드 완료: 20,674개 항목\n",
      "val_df 로드 완료: 4,128개 항목\n",
      "test_df 로드 완료: 1,748개 항목\n",
      "train_with_neg 로드 완료: 22,906개 항목\n",
      "user_processed 로드 완료: 430개 항목\n",
      "business_processed 로드 완료: 7,044개 항목\n",
      "train_item_embeddings 로드 완료: 3,486개 항목\n",
      "val_item_embeddings 로드 완료: 1,806개 항목\n",
      "test_item_embeddings 로드 완료: 1,106개 항목\n",
      "train_user_embeddings 로드 완료: 18,129개 항목\n",
      "val_user_embeddings 로드 완료: 4,118개 항목\n",
      "test_user_embeddings 로드 완료: 1,738개 항목\n",
      "enhanced_item_embeddings 로드 완료: 3,486개 항목\n",
      "사용자 신뢰도 점수 로드 완료: 430개 항목\n",
      "신뢰도 가중치 함수 로드 완료: 3개 함수\n",
      "\n",
      "훈련 세트 크기: 20,674\n",
      "검증 세트 크기: 4,128\n",
      "테스트 세트 크기: 1,748\n",
      "부정적 샘플 포함 훈련 세트 크기: 22,906\n"
     ]
    }
   ],
   "source": [
    "## 2. 데이터 로드\n",
    "\n",
    "# 데이터 경로 설정\n",
    "PROCESSED_DIR = \"./data/processed\"\n",
    "EMBEDDINGS_DIR = \"./data/embeddings\"\n",
    "TRUST_DIR = \"./data/trust\"\n",
    "MODELS_DIR = \"./models\"\n",
    "\n",
    "# 디렉토리 생성\n",
    "os.makedirs(MODELS_DIR, exist_ok=True)\n",
    "\n",
    "# 전처리된 데이터 로드\n",
    "data_files = {\n",
    "    'train_df': os.path.join(PROCESSED_DIR, 'train_df.pkl'),\n",
    "    'val_df': os.path.join(PROCESSED_DIR, 'val_df.pkl'),\n",
    "    'test_df': os.path.join(PROCESSED_DIR, 'test_df.pkl'),\n",
    "    'train_with_neg': os.path.join(PROCESSED_DIR, 'train_with_neg.pkl'),\n",
    "    'user_processed': os.path.join(PROCESSED_DIR, 'user_processed.pkl'),\n",
    "    'business_processed': os.path.join(PROCESSED_DIR, 'business_processed.pkl')\n",
    "}\n",
    "\n",
    "# 데이터 로드\n",
    "data = {}\n",
    "for name, file_path in data_files.items():\n",
    "    with open(file_path, 'rb') as f:\n",
    "        data[name] = pickle.load(f)\n",
    "    print(f\"{name} 로드 완료: {len(data[name]):,}개 항목\")\n",
    "\n",
    "# 임베딩 데이터 로드\n",
    "embedding_files = {\n",
    "    'train_item_embeddings': os.path.join(EMBEDDINGS_DIR, 'train_item_embeddings.pkl'),\n",
    "    'val_item_embeddings': os.path.join(EMBEDDINGS_DIR, 'val_item_embeddings.pkl'),\n",
    "    'test_item_embeddings': os.path.join(EMBEDDINGS_DIR, 'test_item_embeddings.pkl'),\n",
    "    'train_user_embeddings': os.path.join(EMBEDDINGS_DIR, 'train_user_embeddings.pkl'),\n",
    "    'val_user_embeddings': os.path.join(EMBEDDINGS_DIR, 'val_user_embeddings.pkl'),\n",
    "    'test_user_embeddings': os.path.join(EMBEDDINGS_DIR, 'test_user_embeddings.pkl'),\n",
    "    'enhanced_item_embeddings': os.path.join(EMBEDDINGS_DIR, 'enhanced_item_embeddings.pkl')\n",
    "}\n",
    "\n",
    "## 신뢰도 가중치 함수 정의\n",
    "def trust_weight_linear(trust_score):\n",
    "    \"\"\"\n",
    "    선형 신뢰도 가중치 함수\n",
    "    \n",
    "    Args:\n",
    "        trust_score (float): 신뢰도 점수 (0-1)\n",
    "        \n",
    "    Returns:\n",
    "        float: 가중치 (0.5-1.5)\n",
    "    \"\"\"\n",
    "    # 신뢰도 점수에 따라 0.5에서 1.5 사이의 가중치 반환\n",
    "    return 0.5 + trust_score * 1.0\n",
    "\n",
    "def trust_weight_sigmoid(trust_score, k=10):\n",
    "    \"\"\"\n",
    "    시그모이드 신뢰도 가중치 함수\n",
    "    \n",
    "    Args:\n",
    "        trust_score (float): 신뢰도 점수 (0-1)\n",
    "        k (float): 시그모이드 기울기\n",
    "        \n",
    "    Returns:\n",
    "        float: 가중치 (0.5-1.5)\n",
    "    \"\"\"\n",
    "    # 시그모이드 함수를 사용하여 0.5에서 1.5 사이의 가중치 반환\n",
    "    x = (trust_score - 0.5) * k\n",
    "    sigmoid = 1 / (1 + np.exp(-x))\n",
    "    return 0.5 + sigmoid * 1.0\n",
    "\n",
    "def trust_weight_step(trust_score, steps=4):\n",
    "    \"\"\"\n",
    "    계단식 신뢰도 가중치 함수\n",
    "    \n",
    "    Args:\n",
    "        trust_score (float): 신뢰도 점수 (0-1)\n",
    "        steps (int): 계단 수\n",
    "        \n",
    "    Returns:\n",
    "        float: 가중치 (0.5-1.5)\n",
    "    \"\"\"\n",
    "    # 계단식 함수를 사용하여 0.5에서 1.5 사이의 가중치 반환\n",
    "    step_size = 1.0 / steps\n",
    "    step = int(trust_score / step_size)\n",
    "    step = min(step, steps - 1)  # 최대 계단 수 제한\n",
    "    return 0.5 + step * (1.0 / (steps - 1))\n",
    "\n",
    "# 임베딩 로드\n",
    "embeddings = {}\n",
    "for name, file_path in embedding_files.items():\n",
    "    with open(file_path, 'rb') as f:\n",
    "        embeddings[name] = pickle.load(f)\n",
    "    print(f\"{name} 로드 완료: {len(embeddings[name]):,}개 항목\")\n",
    "\n",
    "# 신뢰도 점수 데이터 로드\n",
    "with open(os.path.join(TRUST_DIR, 'user_trust_scores.pkl'), 'rb') as f:\n",
    "    user_trust_scores = pickle.load(f)\n",
    "print(f\"사용자 신뢰도 점수 로드 완료: {len(user_trust_scores):,}개 항목\")\n",
    "\n",
    "# 신뢰도 가중치 함수 로드\n",
    "with open(os.path.join(TRUST_DIR, 'trust_weight_functions.pkl'), 'rb') as f:\n",
    "    trust_weight_functions = pickle.load(f)\n",
    "print(f\"신뢰도 가중치 함수 로드 완료: {len(trust_weight_functions):,}개 함수\")\n",
    "\n",
    "# 변수에 할당\n",
    "train_df = data['train_df']\n",
    "val_df = data['val_df']\n",
    "test_df = data['test_df']\n",
    "train_with_neg = data['train_with_neg']\n",
    "user_processed = data['user_processed']\n",
    "business_processed = data['business_processed']\n",
    "\n",
    "train_item_embeddings = embeddings['train_item_embeddings']\n",
    "val_item_embeddings = embeddings['val_item_embeddings']\n",
    "test_item_embeddings = embeddings['test_item_embeddings']\n",
    "train_user_embeddings = embeddings['train_user_embeddings']\n",
    "val_user_embeddings = embeddings['val_user_embeddings']\n",
    "test_user_embeddings = embeddings['test_user_embeddings']\n",
    "enhanced_item_embeddings = embeddings['enhanced_item_embeddings']\n",
    "\n",
    "# 사용할 신뢰도 가중치 함수 선택\n",
    "trust_weight_fn = trust_weight_functions['sigmoid']  # 시그모이드 가중치 함수 사용\n",
    "\n",
    "# 데이터셋 확인\n",
    "print(f\"\\n훈련 세트 크기: {len(train_df):,}\")\n",
    "print(f\"검증 세트 크기: {len(val_df):,}\")\n",
    "print(f\"테스트 세트 크기: {len(test_df):,}\")\n",
    "print(f\"부정적 샘플 포함 훈련 세트 크기: {len(train_with_neg):,}\")"
   ]
  },
  {
   "cell_type": "code",
   "execution_count": 16,
   "id": "14619ca4",
   "metadata": {},
   "outputs": [
    {
     "name": "stdout",
     "output_type": "stream",
     "text": [
      "\n",
      "데이터 로더 생성 중...\n",
      "데이터셋 정보:\n",
      "  상호작용 수: 22,906\n",
      "  사용자 수: 18,129\n",
      "  아이템 수: 3,486\n",
      "데이터셋 정보:\n",
      "  상호작용 수: 4,128\n",
      "  사용자 수: 4,118\n",
      "  아이템 수: 1,806\n",
      "데이터셋 정보:\n",
      "  상호작용 수: 1,748\n",
      "  사용자 수: 1,738\n",
      "  아이템 수: 1,106\n",
      "훈련 데이터 로더: 358 배치 (배치 크기: 64)\n",
      "검증 데이터 로더: 65 배치\n",
      "테스트 데이터 로더: 28 배치\n",
      "\n",
      "사용자 임베딩 차원: 256\n",
      "아이템 임베딩 차원: 256\n",
      "사용자 수: 18,129\n",
      "아이템 수: 3,486\n"
     ]
    }
   ],
   "source": [
    "## 3. 데이터셋 및 DataLoader 구현\n",
    "\n",
    "class YelpDataset(Dataset):\n",
    "    \"\"\"\n",
    "    Yelp 데이터셋 클래스\n",
    "    \"\"\"\n",
    "    def __init__(self, interactions_df, user_embeddings, item_embeddings, \n",
    "                 user_trust_scores=None, trust_weight_fn=None, \n",
    "                 use_text_embeddings=True):\n",
    "        \"\"\"\n",
    "        Args:\n",
    "            interactions_df (pd.DataFrame): 상호작용 데이터프레임\n",
    "            user_embeddings (dict): 사용자 임베딩 딕셔너리\n",
    "            item_embeddings (dict): 아이템 임베딩 딕셔너리\n",
    "            user_trust_scores (pd.DataFrame): 사용자 신뢰도 점수 데이터프레임\n",
    "            trust_weight_fn (callable): 신뢰도 가중치 함수\n",
    "            use_text_embeddings (bool): 텍스트 임베딩 사용 여부\n",
    "        \"\"\"\n",
    "        self.interactions = interactions_df\n",
    "        self.user_embeddings = user_embeddings\n",
    "        self.item_embeddings = item_embeddings\n",
    "        self.user_trust_scores = user_trust_scores\n",
    "        self.trust_weight_fn = trust_weight_fn\n",
    "        self.use_text_embeddings = use_text_embeddings\n",
    "        \n",
    "        # 임베딩 차원 확인\n",
    "        if len(user_embeddings) > 0:\n",
    "            self.user_embed_dim = len(next(iter(user_embeddings.values())))\n",
    "        else:\n",
    "            self.user_embed_dim = 0\n",
    "            \n",
    "        if len(item_embeddings) > 0:\n",
    "            self.item_embed_dim = len(next(iter(item_embeddings.values())))\n",
    "        else:\n",
    "            self.item_embed_dim = 0\n",
    "            \n",
    "        # 고유 사용자 및 아이템 수 계산\n",
    "        self.num_users = interactions_df['user_idx'].nunique()\n",
    "        self.num_items = interactions_df['item_idx'].nunique()\n",
    "        \n",
    "        print(f\"데이터셋 정보:\")\n",
    "        print(f\"  상호작용 수: {len(interactions_df):,}\")\n",
    "        print(f\"  사용자 수: {self.num_users:,}\")\n",
    "        print(f\"  아이템 수: {self.num_items:,}\")\n",
    "        \n",
    "    def __len__(self):\n",
    "        return len(self.interactions)\n",
    "    \n",
    "    def __getitem__(self, idx):\n",
    "        interaction = self.interactions.iloc[idx]\n",
    "        user_idx = interaction['user_idx']\n",
    "        item_idx = interaction['item_idx']\n",
    "        rating = interaction['rating']\n",
    "        \n",
    "\n",
    "        # 사용자 ID 및 아이템 ID 텐서 생성\n",
    "        user_id = torch.tensor(user_idx, dtype=torch.long)\n",
    "        item_id = torch.tensor(item_idx, dtype=torch.long)\n",
    "        \n",
    "        # 사용자 및 아이템 임베딩 가져오기\n",
    "        user_embed = torch.tensor(self.user_embeddings.get(user_idx, np.zeros(self.user_embed_dim)), \n",
    "                                 dtype=torch.float)\n",
    "        item_embed = torch.tensor(self.item_embeddings.get(item_idx, np.zeros(self.item_embed_dim)), \n",
    "                                 dtype=torch.float)\n",
    "        \n",
    "        # 신뢰도 점수 및 가중치 계산\n",
    "        if self.user_trust_scores is not None and self.trust_weight_fn is not None:\n",
    "            trust_row = self.user_trust_scores[self.user_trust_scores['user_idx'] == user_idx]\n",
    "            if not trust_row.empty:\n",
    "                trust_score = trust_row.iloc[0]['final_trust_score']\n",
    "                trust_weight = self.trust_weight_fn(trust_score)\n",
    "            else:\n",
    "                trust_weight = 1.0  # 기본 가중치\n",
    "        else:\n",
    "            trust_weight = 1.0  # 기본 가중치\n",
    "        \n",
    "        # 평점 텐서 생성\n",
    "        if 'is_negative' in interaction and interaction['is_negative'] == 1:\n",
    "            # 부정적 샘플은 0으로 설정\n",
    "            target = torch.tensor(0.0, dtype=torch.float)\n",
    "        else:\n",
    "            # 평점 정규화 (0-1)\n",
    "            normalized_rating = rating / 5.0\n",
    "            target = torch.tensor(normalized_rating, dtype=torch.float)\n",
    "        \n",
    "        # 신뢰도 가중치 텐서\n",
    "        trust_weight = torch.tensor(trust_weight, dtype=torch.float)\n",
    "        \n",
    "        return {\n",
    "            'user_id': user_id,\n",
    "            'item_id': item_id,\n",
    "            'user_embed': user_embed,\n",
    "            'item_embed': item_embed,\n",
    "            'trust_weight': trust_weight,\n",
    "            'target': target\n",
    "        }\n",
    "\n",
    "# 데이터셋 및 DataLoader 생성\n",
    "def create_data_loaders(train_df, val_df, test_df, train_with_neg, \n",
    "                       user_embeddings, item_embeddings, enhanced_item_embeddings,\n",
    "                       user_trust_scores, trust_weight_fn,\n",
    "                       batch_size=64, use_text_embeddings=True, use_trust_weight=True):\n",
    "    \"\"\"\n",
    "    데이터셋 및 DataLoader 생성\n",
    "    \n",
    "    Args:\n",
    "        train_df (pd.DataFrame): 훈련 데이터프레임\n",
    "        val_df (pd.DataFrame): 검증 데이터프레임\n",
    "        test_df (pd.DataFrame): 테스트 데이터프레임\n",
    "        train_with_neg (pd.DataFrame): 부정적 샘플이 포함된 훈련 데이터프레임\n",
    "        user_embeddings (dict): 사용자 임베딩 딕셔너리\n",
    "        item_embeddings (dict): 아이템 임베딩 딕셔너리\n",
    "        enhanced_item_embeddings (dict): 보강된 아이템 임베딩 딕셔너리\n",
    "        user_trust_scores (pd.DataFrame): 사용자 신뢰도 점수 데이터프레임\n",
    "        trust_weight_fn (callable): 신뢰도 가중치 함수\n",
    "        batch_size (int): 배치 크기\n",
    "        use_text_embeddings (bool): 텍스트 임베딩 사용 여부\n",
    "        use_trust_weight (bool): 신뢰도 가중치 사용 여부\n",
    "        \n",
    "    Returns:\n",
    "        tuple: (train_loader, val_loader, test_loader, train_dataset, val_dataset, test_dataset)\n",
    "    \"\"\"\n",
    "    print(\"\\n데이터 로더 생성 중...\")\n",
    "    # 아이템 임베딩 선택\n",
    "    item_embeds = enhanced_item_embeddings if use_text_embeddings else item_embeddings\n",
    "    \n",
    "    # 신뢰도 점수 및 가중치 함수 설정\n",
    "    trust_scores = user_trust_scores if use_trust_weight else None\n",
    "    weight_fn = trust_weight_fn if use_trust_weight else None\n",
    "    \n",
    "    # 훈련 데이터셋 (부정적 샘플 포함)\n",
    "    train_dataset = YelpDataset(\n",
    "        train_with_neg, \n",
    "        user_embeddings, \n",
    "        item_embeds,\n",
    "        trust_scores,\n",
    "        weight_fn,\n",
    "        use_text_embeddings\n",
    "    )\n",
    "    \n",
    "    # 검증 데이터셋\n",
    "    val_dataset = YelpDataset(\n",
    "        val_df,\n",
    "        user_embeddings,\n",
    "        item_embeds,\n",
    "        trust_scores,\n",
    "        weight_fn,\n",
    "        use_text_embeddings\n",
    "    )\n",
    "    \n",
    "    # 테스트 데이터셋\n",
    "    test_dataset = YelpDataset(\n",
    "        test_df,\n",
    "        user_embeddings,\n",
    "        item_embeds,\n",
    "        trust_scores,\n",
    "        weight_fn,\n",
    "        use_text_embeddings\n",
    "    )\n",
    "    \n",
    "    # DataLoader 생성\n",
    "    train_loader = DataLoader(\n",
    "        train_dataset,\n",
    "        batch_size=batch_size,\n",
    "        shuffle=True,\n",
    "        num_workers=0,\n",
    "        pin_memory=True if torch.cuda.is_available() else False\n",
    "        #persistent_workers=True\n",
    "    )\n",
    "    \n",
    "    val_loader = DataLoader(\n",
    "        val_dataset,\n",
    "        batch_size=batch_size,\n",
    "        shuffle=False,\n",
    "        num_workers=0,\n",
    "        pin_memory=True if torch.cuda.is_available() else False\n",
    "        #persistent_workers=True\n",
    "    )\n",
    "    \n",
    "    test_loader = DataLoader(\n",
    "        test_dataset,\n",
    "        batch_size=batch_size,\n",
    "        shuffle=False,\n",
    "        num_workers=0,\n",
    "        pin_memory=True if torch.cuda.is_available() else False\n",
    "        #persistent_workers=True\n",
    "    )\n",
    "    \n",
    "    print(f\"훈련 데이터 로더: {len(train_loader):,} 배치 (배치 크기: {batch_size})\")\n",
    "    print(f\"검증 데이터 로더: {len(val_loader):,} 배치\")\n",
    "    print(f\"테스트 데이터 로더: {len(test_loader):,} 배치\")\n",
    "    \n",
    "    return train_loader, val_loader, test_loader, train_dataset, val_dataset, test_dataset\n",
    "\n",
    "# 데이터 로더 생성\n",
    "BATCH_SIZE = 64\n",
    "USE_TEXT_EMBEDDINGS = True  # 텍스트 임베딩 사용 여부\n",
    "USE_TRUST_WEIGHT = True  # 신뢰도 가중치 사용 여부\n",
    "\n",
    "train_loader, val_loader, test_loader, train_dataset, val_dataset, test_dataset = create_data_loaders(\n",
    "    train_df, val_df, test_df, train_with_neg,\n",
    "    train_user_embeddings, train_item_embeddings, enhanced_item_embeddings,\n",
    "    user_trust_scores, trust_weight_fn,\n",
    "    batch_size=BATCH_SIZE,\n",
    "    use_text_embeddings=USE_TEXT_EMBEDDINGS,\n",
    "    use_trust_weight=USE_TRUST_WEIGHT\n",
    ")\n",
    "\n",
    "# 데이터셋 차원 확인\n",
    "USER_EMBED_DIM = train_dataset.user_embed_dim\n",
    "ITEM_EMBED_DIM = train_dataset.item_embed_dim\n",
    "NUM_USERS = train_dataset.num_users\n",
    "NUM_ITEMS = train_dataset.num_items\n",
    "\n",
    "print(f\"\\n사용자 임베딩 차원: {USER_EMBED_DIM}\")\n",
    "print(f\"아이템 임베딩 차원: {ITEM_EMBED_DIM}\")\n",
    "print(f\"사용자 수: {NUM_USERS:,}\")\n",
    "print(f\"아이템 수: {NUM_ITEMS:,}\")\n"
   ]
  },
  {
   "cell_type": "code",
   "execution_count": 17,
   "id": "35c2a361",
   "metadata": {},
   "outputs": [],
   "source": [
    "## 4. NCF 모델 구현\n",
    "\n",
    "class GMF(nn.Module):\n",
    "    \"\"\"\n",
    "    일반화된 행렬 분해 (Generalized Matrix Factorization) 모델\n",
    "    \"\"\"\n",
    "    def __init__(self, num_users, num_items, user_embed_dim, item_embed_dim, latent_dim=64):\n",
    "        super(GMF, self).__init__()\n",
    "        \n",
    "        # 인덱스 범위 안전을 위한 여유 마진 추가\n",
    "        print(f\"GMF 초기화: num_users={num_users}, num_items={num_items}\")\n",
    "        # 임베딩 레이어에 여유 공간 추가\n",
    "        num_users = max(num_users, 30000)  # 충분히 큰 값으로 설정\n",
    "        num_items = max(num_items, 10000)  # 충분히 큰 값으로 설정\n",
    "        \n",
    "        self.user_id_embed = nn.Embedding(num_users, latent_dim)\n",
    "        self.item_id_embed = nn.Embedding(num_items, latent_dim)\n",
    "        \n",
    "        # 사용자/아이템 텍스트 임베딩을 위한 선형 레이어\n",
    "        self.user_text_fc = nn.Linear(user_embed_dim, latent_dim)\n",
    "        self.item_text_fc = nn.Linear(item_embed_dim, latent_dim)\n",
    "        \n",
    "        # 최종 예측 레이어\n",
    "        self.predict_layer = nn.Linear(latent_dim, 1)\n",
    "        \n",
    "        # 활성화 함수\n",
    "        self.sigmoid = nn.Sigmoid()\n",
    "        \n",
    "        # 가중치 초기화\n",
    "        self._init_weight()\n",
    "        \n",
    "    def _init_weight(self):\n",
    "        \"\"\"\n",
    "        가중치 초기화\n",
    "        \"\"\"\n",
    "        # 임베딩 레이어 초기화\n",
    "        nn.init.normal_(self.user_id_embed.weight, std=0.01)\n",
    "        nn.init.normal_(self.item_id_embed.weight, std=0.01)\n",
    "        \n",
    "        # 선형 레이어 초기화\n",
    "        nn.init.xavier_uniform_(self.user_text_fc.weight)\n",
    "        nn.init.xavier_uniform_(self.item_text_fc.weight)\n",
    "        nn.init.xavier_uniform_(self.predict_layer.weight)\n",
    "        \n",
    "        # 바이어스 초기화\n",
    "        for m in self.modules():\n",
    "            if isinstance(m, nn.Linear) and m.bias is not None:\n",
    "                nn.init.constant_(m.bias, 0)\n",
    "        \n",
    "    def forward(self, user_id, item_id, user_embed, item_embed):\n",
    "        \"\"\"\n",
    "        순전파\n",
    "        \n",
    "        Args:\n",
    "            user_id (torch.Tensor): 사용자 ID 텐서\n",
    "            item_id (torch.Tensor): 아이템 ID 텐서\n",
    "            user_embed (torch.Tensor): 사용자 임베딩 텐서\n",
    "            item_embed (torch.Tensor): 아이템 임베딩 텐서\n",
    "            \n",
    "        Returns:\n",
    "            torch.Tensor: 예측값 (0-1)\n",
    "        \"\"\"\n",
    "        # ID 임베딩\n",
    "        user_id_latent = self.user_id_embed(user_id)  # (batch_size, latent_dim)\n",
    "        item_id_latent = self.item_id_embed(item_id)  # (batch_size, latent_dim)\n",
    "        \n",
    "        # 텍스트 임베딩 투영\n",
    "        user_text_latent = self.user_text_fc(user_embed)  # (batch_size, latent_dim)\n",
    "        item_text_latent = self.item_text_fc(item_embed)  # (batch_size, latent_dim)\n",
    "        \n",
    "        # 임베딩 결합 (ID + 텍스트)\n",
    "        user_latent = user_id_latent + user_text_latent  # (batch_size, latent_dim)\n",
    "        item_latent = item_id_latent + item_text_latent  # (batch_size, latent_dim)\n",
    "        \n",
    "        # 요소별 곱 (Hadamard product)\n",
    "        element_product = user_latent * item_latent  # (batch_size, latent_dim)\n",
    "        \n",
    "        # 출력층\n",
    "        logits = self.predict_layer(element_product)  # (batch_size, 1)\n",
    "        rating = self.sigmoid(logits)  # (batch_size, 1)\n",
    "        \n",
    "        return rating.view(-1)\n",
    "\n",
    "class MLP(nn.Module):\n",
    "    \"\"\"\n",
    "    다층 퍼셉트론 (Multi-Layer Perceptron) 모델\n",
    "    \"\"\"\n",
    "    def __init__(self, num_users, num_items, user_embed_dim, item_embed_dim, latent_dim=64, layers=[128, 64, 32]):\n",
    "        \"\"\"\n",
    "        Args:\n",
    "            num_users (int): 사용자 수\n",
    "            num_items (int): 아이템 수\n",
    "            user_embed_dim (int): 사용자 임베딩 차원\n",
    "            item_embed_dim (int): 아이템 임베딩 차원\n",
    "            latent_dim (int): 잠재 요인 차원\n",
    "            layers (list): MLP 레이어 구성\n",
    "        \"\"\"\n",
    "        super(MLP, self).__init__()\n",
    "\n",
    "        print(f\"MLP 초기화: num_users={num_users}, num_items={num_items}\")\n",
    "        num_users = max(num_users, 30000)  # 충분히 큰 값으로 설정\n",
    "        num_items = max(num_items, 10000)  # 충분히 큰 값으로 설정\n",
    "        \n",
    "        # 임베딩 레이어\n",
    "        self.user_id_embed = nn.Embedding(num_users, latent_dim)\n",
    "        self.item_id_embed = nn.Embedding(num_items, latent_dim)\n",
    "        \n",
    "        # 사용자/아이템 텍스트 임베딩을 위한 선형 레이어\n",
    "        self.user_text_fc = nn.Linear(user_embed_dim, latent_dim)\n",
    "        self.item_text_fc = nn.Linear(item_embed_dim, latent_dim)\n",
    "        \n",
    "        # MLP 레이어\n",
    "        self.fc_layers = nn.ModuleList()\n",
    "        input_dim = latent_dim * 2\n",
    "        \n",
    "        for layer_size in layers:\n",
    "            self.fc_layers.append(nn.Linear(input_dim, layer_size))\n",
    "            input_dim = layer_size\n",
    "        \n",
    "        # 최종 예측 레이어\n",
    "        self.predict_layer = nn.Linear(layers[-1], 1)\n",
    "        \n",
    "        # 활성화 함수\n",
    "        self.sigmoid = nn.Sigmoid()\n",
    "        \n",
    "        # 가중치 초기화\n",
    "        self._init_weight()\n",
    "        \n",
    "    def _init_weight(self):\n",
    "        \"\"\"\n",
    "        가중치 초기화\n",
    "        \"\"\"\n",
    "        # 임베딩 레이어 초기화\n",
    "        nn.init.normal_(self.user_id_embed.weight, std=0.01)\n",
    "        nn.init.normal_(self.item_id_embed.weight, std=0.01)\n",
    "        \n",
    "        # 선형 레이어 초기화\n",
    "        nn.init.xavier_uniform_(self.user_text_fc.weight)\n",
    "        nn.init.xavier_uniform_(self.item_text_fc.weight)\n",
    "        \n",
    "        # MLP 레이어 초기화\n",
    "        for m in self.fc_layers:\n",
    "            nn.init.xavier_uniform_(m.weight)\n",
    "            if m.bias is not None:\n",
    "                nn.init.constant_(m.bias, 0)\n",
    "                \n",
    "        # 예측 레이어 초기화\n",
    "        nn.init.xavier_uniform_(self.predict_layer.weight)\n",
    "        nn.init.constant_(self.predict_layer.bias, 0)\n",
    "        \n",
    "    def forward(self, user_id, item_id, user_embed, item_embed):\n",
    "        \"\"\"\n",
    "        순전파\n",
    "        \n",
    "        Args:\n",
    "            user_id (torch.Tensor): 사용자 ID 텐서\n",
    "            item_id (torch.Tensor): 아이템 ID 텐서\n",
    "            user_embed (torch.Tensor): 사용자 임베딩 텐서\n",
    "            item_embed (torch.Tensor): 아이템 임베딩 텐서\n",
    "            \n",
    "        Returns:\n",
    "            torch.Tensor: 예측값 (0-1)\n",
    "        \"\"\"\n",
    "        # ID 임베딩\n",
    "        user_id_latent = self.user_id_embed(user_id)  # (batch_size, latent_dim)\n",
    "        item_id_latent = self.item_id_embed(item_id)  # (batch_size, latent_dim)\n",
    "        \n",
    "        # 텍스트 임베딩 투영\n",
    "        user_text_latent = self.user_text_fc(user_embed)  # (batch_size, latent_dim)\n",
    "        item_text_latent = self.item_text_fc(item_embed)  # (batch_size, latent_dim)\n",
    "        \n",
    "        # 임베딩 결합 (ID + 텍스트)\n",
    "        user_latent = user_id_latent + user_text_latent  # (batch_size, latent_dim)\n",
    "        item_latent = item_id_latent + item_text_latent  # (batch_size, latent_dim)\n",
    "        \n",
    "        # 벡터 연결 (Concatenation)\n",
    "        vector = torch.cat([user_latent, item_latent], dim=-1)  # (batch_size, latent_dim*2)\n",
    "        \n",
    "        # MLP 레이어\n",
    "        for idx, layer in enumerate(self.fc_layers):\n",
    "            vector = layer(vector)\n",
    "            vector = F.relu(vector)\n",
    "        \n",
    "        # 출력층\n",
    "        logits = self.predict_layer(vector)  # (batch_size, 1)\n",
    "        rating = self.sigmoid(logits)  # (batch_size, 1)\n",
    "        \n",
    "        return rating.view(-1)\n",
    "\n",
    "class NeuMF(nn.Module):\n",
    "    \"\"\"\n",
    "    신경망 기반 행렬 분해 (Neural Matrix Factorization) 모델\n",
    "    GMF와 MLP의 결합\n",
    "    \"\"\"\n",
    "    def __init__(self, num_users, num_items, user_embed_dim, item_embed_dim, \n",
    "                 latent_dim_gmf=64, latent_dim_mlp=64, layers=[128, 64, 32], \n",
    "                 use_text_embed=True, use_id_embed=True):\n",
    "        \"\"\"\n",
    "        Args:\n",
    "            num_users (int): 사용자 수\n",
    "            num_items (int): 아이템 수\n",
    "            user_embed_dim (int): 사용자 임베딩 차원\n",
    "            item_embed_dim (int): 아이템 임베딩 차원\n",
    "            latent_dim_gmf (int): GMF 잠재 요인 차원\n",
    "            latent_dim_mlp (int): MLP 잠재 요인 차원\n",
    "            layers (list): MLP 레이어 구성\n",
    "            use_text_embed (bool): 텍스트 임베딩 사용 여부\n",
    "            use_id_embed (bool): ID 임베딩 사용 여부\n",
    "        \"\"\"\n",
    "        super(NeuMF, self).__init__()\n",
    "        \n",
    "        # 설정 저장\n",
    "        self.use_text_embed = use_text_embed\n",
    "        self.use_id_embed = use_id_embed\n",
    "\n",
    "        # 인덱스 범위 안전을 위한 여유 마진 추가\n",
    "        print(f\"NeuMF 초기화: num_users={num_users}, num_items={num_items}\")\n",
    "        # 임베딩 레이어에 여유 공간 추가\n",
    "        num_users = max(num_users, 30000)  # 충분히 큰 값으로 설정\n",
    "        num_items = max(num_items, 10000)  # 충분히 큰 값으로 설정\n",
    "        \n",
    "        # GMF 임베딩 레이어\n",
    "        self.user_id_embed_gmf = nn.Embedding(num_users, latent_dim_gmf)\n",
    "        self.item_id_embed_gmf = nn.Embedding(num_items, latent_dim_gmf)\n",
    "        \n",
    "        # MLP 임베딩 레이어\n",
    "        self.user_id_embed_mlp = nn.Embedding(num_users, latent_dim_mlp)\n",
    "        self.item_id_embed_mlp = nn.Embedding(num_items, latent_dim_mlp)\n",
    "        \n",
    "        # 사용자/아이템 텍스트 임베딩을 위한 선형 레이어\n",
    "        self.user_text_fc_gmf = nn.Linear(user_embed_dim, latent_dim_gmf)\n",
    "        self.item_text_fc_gmf = nn.Linear(item_embed_dim, latent_dim_gmf)\n",
    "        self.user_text_fc_mlp = nn.Linear(user_embed_dim, latent_dim_mlp)\n",
    "        self.item_text_fc_mlp = nn.Linear(item_embed_dim, latent_dim_mlp)\n",
    "        \n",
    "        # MLP 레이어\n",
    "        self.fc_layers = nn.ModuleList()\n",
    "        input_dim = latent_dim_mlp * 2\n",
    "        \n",
    "        for layer_size in layers:\n",
    "            self.fc_layers.append(nn.Linear(input_dim, layer_size))\n",
    "            input_dim = layer_size\n",
    "        \n",
    "        # 최종 예측 레이어\n",
    "        self.predict_layer = nn.Linear(layers[-1] + latent_dim_gmf, 1)\n",
    "        \n",
    "        # 활성화 함수\n",
    "        self.sigmoid = nn.Sigmoid()\n",
    "        \n",
    "        # 가중치 초기화\n",
    "        self._init_weight()\n",
    "        \n",
    "    def _init_weight(self):\n",
    "        \"\"\"\n",
    "        가중치 초기화\n",
    "        \"\"\"\n",
    "        # 임베딩 레이어 초기화\n",
    "        nn.init.normal_(self.user_id_embed_gmf.weight, std=0.01)\n",
    "        nn.init.normal_(self.item_id_embed_gmf.weight, std=0.01)\n",
    "        nn.init.normal_(self.user_id_embed_mlp.weight, std=0.01)\n",
    "        nn.init.normal_(self.item_id_embed_mlp.weight, std=0.01)\n",
    "        \n",
    "        # 선형 레이어 초기화\n",
    "        nn.init.xavier_uniform_(self.user_text_fc_gmf.weight)\n",
    "        nn.init.xavier_uniform_(self.item_text_fc_gmf.weight)\n",
    "        nn.init.xavier_uniform_(self.user_text_fc_mlp.weight)\n",
    "        nn.init.xavier_uniform_(self.item_text_fc_mlp.weight)\n",
    "        \n",
    "        # MLP 레이어 초기화\n",
    "        for m in self.fc_layers:\n",
    "            nn.init.xavier_uniform_(m.weight)\n",
    "            if m.bias is not None:\n",
    "                nn.init.constant_(m.bias, 0)\n",
    "                \n",
    "        # 예측 레이어 초기화\n",
    "        nn.init.xavier_uniform_(self.predict_layer.weight)\n",
    "        nn.init.constant_(self.predict_layer.bias, 0)\n",
    "        \n",
    "    def forward(self, user_id, item_id, user_embed, item_embed):\n",
    "        \"\"\"\n",
    "        순전파\n",
    "        \n",
    "        Args:\n",
    "            user_id (torch.Tensor): 사용자 ID 텐서\n",
    "            item_id (torch.Tensor): 아이템 ID 텐서\n",
    "            user_embed (torch.Tensor): 사용자 임베딩 텐서\n",
    "            item_embed (torch.Tensor): 아이템 임베딩 텐서\n",
    "            \n",
    "        Returns:\n",
    "            torch.Tensor: 예측값 (0-1)\n",
    "        \"\"\"\n",
    "        # GMF 임베딩\n",
    "        user_id_latent_gmf = self.user_id_embed_gmf(user_id)\n",
    "        item_id_latent_gmf = self.item_id_embed_gmf(item_id)\n",
    "        \n",
    "        # MLP 임베딩\n",
    "        user_id_latent_mlp = self.user_id_embed_mlp(user_id)\n",
    "        item_id_latent_mlp = self.item_id_embed_mlp(item_id)\n",
    "        \n",
    "        # 텍스트 임베딩 투영\n",
    "        user_text_latent_gmf = self.user_text_fc_gmf(user_embed)\n",
    "        item_text_latent_gmf = self.item_text_fc_gmf(item_embed)\n",
    "        user_text_latent_mlp = self.user_text_fc_mlp(user_embed)\n",
    "        item_text_latent_mlp = self.item_text_fc_mlp(item_embed)\n",
    "        \n",
    "        # 임베딩 결합 (ID + 텍스트)\n",
    "        if self.use_id_embed and self.use_text_embed:\n",
    "            # ID와 텍스트 임베딩 모두 사용\n",
    "            user_latent_gmf = user_id_latent_gmf + user_text_latent_gmf\n",
    "            item_latent_gmf = item_id_latent_gmf + item_text_latent_gmf\n",
    "            user_latent_mlp = user_id_latent_mlp + user_text_latent_mlp\n",
    "            item_latent_mlp = item_id_latent_mlp + item_text_latent_mlp\n",
    "        elif self.use_id_embed:\n",
    "            # ID 임베딩만 사용\n",
    "            user_latent_gmf = user_id_latent_gmf\n",
    "            item_latent_gmf = item_id_latent_gmf\n",
    "            user_latent_mlp = user_id_latent_mlp\n",
    "            item_latent_mlp = item_id_latent_mlp\n",
    "        elif self.use_text_embed:\n",
    "            # 텍스트 임베딩만 사용\n",
    "            user_latent_gmf = user_text_latent_gmf\n",
    "            item_latent_gmf = item_text_latent_gmf\n",
    "            user_latent_mlp = user_text_latent_mlp\n",
    "            item_latent_mlp = item_text_latent_mlp\n",
    "        else:\n",
    "            # 최소한 하나의 임베딩은 사용해야 함\n",
    "            raise ValueError(\"최소한 ID 임베딩 또는 텍스트 임베딩 중 하나는 사용해야 합니다.\")\n",
    "        \n",
    "        # GMF 부분: 요소별 곱 (Hadamard product)\n",
    "        gmf_vector = user_latent_gmf * item_latent_gmf\n",
    "        \n",
    "        # MLP 부분: 벡터 연결 (Concatenation) + MLP\n",
    "        mlp_vector = torch.cat([user_latent_mlp, item_latent_mlp], dim=-1)\n",
    "        \n",
    "        for idx, layer in enumerate(self.fc_layers):\n",
    "            mlp_vector = layer(mlp_vector)\n",
    "            mlp_vector = F.relu(mlp_vector)\n",
    "        \n",
    "        # GMF와 MLP 결과 결합\n",
    "        vector = torch.cat([gmf_vector, mlp_vector], dim=-1)\n",
    "        \n",
    "        # 출력층\n",
    "        logits = self.predict_layer(vector)\n",
    "        rating = self.sigmoid(logits)\n",
    "        \n",
    "        return rating.view(-1)"
   ]
  },
  {
   "cell_type": "code",
   "execution_count": 18,
   "id": "ec5523a5",
   "metadata": {},
   "outputs": [],
   "source": [
    "## 5. 모델 학습 및 평가 함수 구현\n",
    "\n",
    "def train_model(model, train_loader, val_loader, criterion, optimizer, \n",
    "               scheduler=None, num_epochs=10, device=None, patience=5, \n",
    "               use_trust_weight=True, model_save_path=None, verbose=True):\n",
    "    \"\"\"\n",
    "        모델 학습 함수\n",
    "    \n",
    "    Args:\n",
    "        model (nn.Module): 학습할 모델\n",
    "        train_loader (DataLoader): 훈련 데이터 로더\n",
    "        val_loader (DataLoader): 검증 데이터 로더\n",
    "        criterion (nn.Module): 손실 함수\n",
    "        optimizer (torch.optim.Optimizer): 최적화 알고리즘\n",
    "        scheduler (torch.optim.lr_scheduler._LRScheduler): 학습률 스케줄러\n",
    "        num_epochs (int): 훈련 에폭 수\n",
    "        device (torch.device): 학습 장치\n",
    "        patience (int): 조기 종료 인내심\n",
    "        use_trust_weight (bool): 신뢰도 가중치 사용 여부\n",
    "        model_save_path (str): 모델 저장 경로\n",
    "        verbose (bool): 상세 출력 여부\n",
    "        \n",
    "    Returns:\n",
    "        tuple: (훈련된 모델, 훈련 손실 기록, 검증 손실 기록)\n",
    "    \"\"\"\n",
    "    if device is None:\n",
    "        device = torch.device('cuda' if torch.cuda.is_available() else 'cpu')\n",
    "    \n",
    "    model = model.to(device)\n",
    "    \n",
    "    # 손실 기록\n",
    "    train_losses = []\n",
    "    val_losses = []\n",
    "    \n",
    "    # 최적 모델 관리\n",
    "    best_val_loss = float('inf')\n",
    "    best_model_state = None\n",
    "    patience_counter = 0\n",
    "    \n",
    "    # 학습 시작\n",
    "    for epoch in range(num_epochs):\n",
    "        # 훈련 모드\n",
    "        model.train()\n",
    "        train_loss = 0.0\n",
    "        \n",
    "        # 훈련 루프\n",
    "        for batch in tqdm(train_loader, desc=f'Epoch {epoch+1}/{num_epochs} [Train]', disable=not verbose):\n",
    "            # 배치 데이터\n",
    "            user_id = batch['user_id'].to(device)\n",
    "            item_id = batch['item_id'].to(device)\n",
    "            user_embed = batch['user_embed'].to(device)\n",
    "            item_embed = batch['item_embed'].to(device)\n",
    "            trust_weight = batch['trust_weight'].to(device) if use_trust_weight else None\n",
    "            target = batch['target'].to(device)\n",
    "            \n",
    "            # 모델 초기화\n",
    "            optimizer.zero_grad()\n",
    "            \n",
    "            # 순전파\n",
    "            try:\n",
    "                output = model(user_id, item_id, user_embed, item_embed)\n",
    "                \n",
    "                # 손실 계산 (무조건 스칼라로 만듦)\n",
    "                if use_trust_weight:\n",
    "                    # 개별 손실 계산 후 가중 평균\n",
    "                    individual_loss = (output - target)**2\n",
    "                    loss = (individual_loss * trust_weight).mean()\n",
    "                else:\n",
    "                    # 일반 MSE 손실\n",
    "                    loss = ((output - target)**2).mean()\n",
    "                \n",
    "                # 역전파\n",
    "                loss.backward()\n",
    "                optimizer.step()\n",
    "                \n",
    "                # 손실 누적\n",
    "                train_loss += loss.item() * len(user_id)\n",
    "                \n",
    "            except Exception as e:\n",
    "                print(f\"오류 발생: {e}\")\n",
    "                print(f\"사용자 ID 범위: {user_id.min().item()}-{user_id.max().item()}\")\n",
    "                print(f\"아이템 ID 범위: {item_id.min().item()}-{item_id.max().item()}\")\n",
    "                raise e\n",
    "        \n",
    "        # 에폭 평균 훈련 손실\n",
    "        train_loss /= len(train_loader.dataset)\n",
    "        train_losses.append(train_loss)\n",
    "        \n",
    "        # 검증 모드\n",
    "        model.eval()\n",
    "        val_loss = 0.0\n",
    "        \n",
    "        # 검증 루프\n",
    "        with torch.no_grad():\n",
    "            for batch in tqdm(val_loader, desc=f'Epoch {epoch+1}/{num_epochs} [Val]', disable=not verbose):\n",
    "                # 배치 데이터\n",
    "                user_id = batch['user_id'].to(device)\n",
    "                item_id = batch['item_id'].to(device)\n",
    "                user_embed = batch['user_embed'].to(device)\n",
    "                item_embed = batch['item_embed'].to(device)\n",
    "                trust_weight = batch['trust_weight'].to(device) if use_trust_weight else None\n",
    "                target = batch['target'].to(device)\n",
    "                \n",
    "                # 순전파\n",
    "                output = model(user_id, item_id, user_embed, item_embed)\n",
    "                \n",
    "                # 손실 계산\n",
    "                if use_trust_weight:\n",
    "                    individual_loss = (output - target)**2\n",
    "                    loss = (individual_loss * trust_weight).mean()\n",
    "                else:\n",
    "                    loss = ((output - target)**2).mean()\n",
    "                \n",
    "                # 손실 누적\n",
    "                val_loss += loss.item() * len(user_id)\n",
    "        \n",
    "        # 에폭 평균 검증 손실\n",
    "        val_loss /= len(val_loader.dataset)\n",
    "        val_losses.append(val_loss)\n",
    "        \n",
    "        # 학습률 스케줄러 업데이트\n",
    "        if scheduler is not None:\n",
    "            scheduler.step(val_loss)\n",
    "        \n",
    "        # 에폭 결과 출력\n",
    "        if verbose:\n",
    "            print(f'Epoch {epoch+1}/{num_epochs} | Train Loss: {train_loss:.4f} | Val Loss: {val_loss:.4f}')\n",
    "        \n",
    "        # 최적 모델 저장\n",
    "        if val_loss < best_val_loss:\n",
    "            best_val_loss = val_loss\n",
    "            best_model_state = copy.deepcopy(model.state_dict())\n",
    "            patience_counter = 0\n",
    "            \n",
    "            # 모델 저장\n",
    "            if model_save_path is not None:\n",
    "                torch.save(model.state_dict(), model_save_path)\n",
    "                if verbose:\n",
    "                    print(f'모델 저장: {model_save_path}')\n",
    "        else:\n",
    "            patience_counter += 1\n",
    "            if verbose:\n",
    "                print(f'검증 손실이 개선되지 않음. Patience: {patience_counter}/{patience}')\n",
    "        \n",
    "        # 조기 종료\n",
    "        if patience_counter >= patience:\n",
    "            if verbose:\n",
    "                print(f'검증 손실 {patience}회 연속 개선 없음. 조기 종료.')\n",
    "            break\n",
    "    \n",
    "    # 최적 모델 상태로 복원\n",
    "    if best_model_state is not None:\n",
    "        model.load_state_dict(best_model_state)\n",
    "    \n",
    "    return model, train_losses, val_losses\n",
    "\n",
    "def evaluate_model(model, test_loader, criterion=None, device=None, \n",
    "                   use_trust_weight=True, compute_metrics=True, top_k=10, verbose=True):\n",
    "    \"\"\"\n",
    "    모델 평가 함수\n",
    "    \n",
    "    Args:\n",
    "        model (nn.Module): 평가할 모델\n",
    "        test_loader (DataLoader): 테스트 데이터 로더\n",
    "        criterion (nn.Module): 손실 함수\n",
    "        device (torch.device): 평가 장치\n",
    "        use_trust_weight (bool): 신뢰도 가중치 사용 여부\n",
    "        compute_metrics (bool): 추천 메트릭 계산 여부\n",
    "        top_k (int 또는 list): 추천 항목 수 (단일 값 또는 여러 값 리스트)\n",
    "        verbose (bool): 상세 출력 여부\n",
    "        \n",
    "    Returns:\n",
    "        tuple: (테스트 손실, 평가 메트릭 (NDCG@K, HR@K, MRR))\n",
    "    \"\"\"\n",
    "    if device is None:\n",
    "        device = torch.device('cuda' if torch.cuda.is_available() else 'cpu')\n",
    "    model = model.to(device)\n",
    "    model.eval()\n",
    "    \n",
    "    # 손실 및 메트릭 초기화\n",
    "    test_loss = 0.0\n",
    "    all_predictions = []\n",
    "    all_targets = []\n",
    "    \n",
    "    # 테스트 루프\n",
    "    test_pbar = tqdm(test_loader, desc='평가 중', disable=not verbose)\n",
    "    with torch.no_grad():\n",
    "        for batch in test_pbar:\n",
    "            # 배치 데이터 추출 및 장치 전송\n",
    "            user_id = batch['user_id'].to(device)\n",
    "            item_id = batch['item_id'].to(device)\n",
    "            user_embed = batch['user_embed'].to(device)\n",
    "            item_embed = batch['item_embed'].to(device)\n",
    "            trust_weight = batch['trust_weight'].to(device) if use_trust_weight else None\n",
    "            target = batch['target'].to(device)\n",
    "            \n",
    "            # 순전파\n",
    "            output = model(user_id, item_id, user_embed, item_embed)\n",
    "            \n",
    "            # 손실 계산 (신뢰도 가중치 적용)\n",
    "            if criterion is not None:\n",
    "                if use_trust_weight and trust_weight is not None:\n",
    "                    # 개별 손실 계산 후 평균\n",
    "                    individual_loss = (output - target)**2  # MSE 손실\n",
    "                    loss = (individual_loss * trust_weight).mean()  # 가중 평균으로 스칼라화\n",
    "                else:\n",
    "                    # 기본 MSE 손실\n",
    "                    loss = ((output - target)**2).mean()  # 평균으로 스칼라화\n",
    "                \n",
    "                # 이제 loss는 스칼라 값이므로 .item()을 안전하게 사용 가능\n",
    "                test_loss += loss.item() * len(user_id)\n",
    "            \n",
    "            # 예측 및 타겟 저장\n",
    "            all_predictions.append(output.cpu().numpy())\n",
    "            all_targets.append(target.cpu().numpy())\n",
    "            \n",
    "            # 진행 상황 업데이트\n",
    "            if criterion is not None:\n",
    "                test_pbar.set_postfix({'loss': loss.item()})\n",
    "    \n",
    "    # 평균 테스트 손실\n",
    "    if criterion is not None:\n",
    "        test_loss /= len(test_loader.dataset)\n",
    "    \n",
    "    # 예측 및 타겟 결합\n",
    "    all_predictions = np.concatenate(all_predictions)\n",
    "    all_targets = np.concatenate(all_targets)\n",
    "    \n",
    "    # 메트릭 계산\n",
    "    metrics = {}\n",
    "    if compute_metrics:\n",
    "        # 사용자별 아이템 그룹화\n",
    "        user_items = {}\n",
    "        for i, user_id in enumerate(test_loader.dataset.interactions['user_idx']):\n",
    "            if user_id not in user_items:\n",
    "                user_items[user_id] = []\n",
    "            item_id = test_loader.dataset.interactions.iloc[i]['item_idx']\n",
    "            rating = test_loader.dataset.interactions.iloc[i]['rating']\n",
    "            prediction = all_predictions[i]\n",
    "            user_items[user_id].append((item_id, rating, prediction))\n",
    "        \n",
    "        # top_k가 리스트인 경우\n",
    "        if isinstance(top_k, list):\n",
    "            for k in top_k:\n",
    "                ndcg_values = []\n",
    "                hit_ratio_values = []\n",
    "                mrr_values = []\n",
    "                \n",
    "                for user_id, items in user_items.items():\n",
    "                    # 예측 기준으로 정렬\n",
    "                    items.sort(key=lambda x: x[2], reverse=True)\n",
    "                    \n",
    "                    # Top-K 항목\n",
    "                    top_k_items = items[:k]\n",
    "                    \n",
    "                    # 관련 아이템 (실제 평점 >= 4)\n",
    "                    relevant_items = {item[0] for item in items if item[1] >= 4}\n",
    "                    \n",
    "                    if len(relevant_items) > 0:\n",
    "                        # NDCG@K\n",
    "                        dcg = 0\n",
    "                        idcg = 0\n",
    "                        for i, (item_id, _, _) in enumerate(top_k_items):\n",
    "                            if item_id in relevant_items:\n",
    "                                dcg += 1 / np.log2(i + 2)\n",
    "                        for i in range(min(len(relevant_items), k)):\n",
    "                            idcg += 1 / np.log2(i + 2)\n",
    "                        ndcg = dcg / idcg if idcg > 0 else 0\n",
    "                        ndcg_values.append(ndcg)\n",
    "                        \n",
    "                        # HR@K (Hit Ratio at K)\n",
    "                        hit = any(item[0] in relevant_items for item in top_k_items)\n",
    "                        hit_ratio_values.append(1 if hit else 0)\n",
    "                        \n",
    "                        # MRR (Mean Reciprocal Rank)\n",
    "                        reciprocal_rank = 0\n",
    "                        for i, (item_id, _, _) in enumerate(top_k_items):\n",
    "                            if item_id in relevant_items:\n",
    "                                reciprocal_rank = 1 / (i + 1)\n",
    "                                break\n",
    "                        mrr_values.append(reciprocal_rank)\n",
    "                \n",
    "                # 평균 메트릭\n",
    "                metrics[f'NDCG@{k}'] = np.mean(ndcg_values) if ndcg_values else 0\n",
    "                metrics[f'HR@{k}'] = np.mean(hit_ratio_values) if hit_ratio_values else 0\n",
    "                metrics[f'MRR@{k}'] = np.mean(mrr_values) if mrr_values else 0\n",
    "        else:\n",
    "            # 기존 코드 (top_k가 정수인 경우)\n",
    "            ndcg_values = []\n",
    "            hit_ratio_values = []\n",
    "            mrr_values = []\n",
    "            \n",
    "            for user_id, items in user_items.items():\n",
    "                # 예측 기준으로 정렬\n",
    "                items.sort(key=lambda x: x[2], reverse=True)\n",
    "                \n",
    "                # Top-K 항목\n",
    "                top_k_items = items[:top_k]\n",
    "                \n",
    "                # 관련 아이템 (실제 평점 >= 4)\n",
    "                relevant_items = {item[0] for item in items if item[1] >= 4}\n",
    "                \n",
    "                if len(relevant_items) > 0:\n",
    "                    # NDCG@K\n",
    "                    dcg = 0\n",
    "                    idcg = 0\n",
    "                    for i, (item_id, _, _) in enumerate(top_k_items):\n",
    "                        if item_id in relevant_items:\n",
    "                            dcg += 1 / np.log2(i + 2)\n",
    "                    for i in range(min(len(relevant_items), top_k)):\n",
    "                        idcg += 1 / np.log2(i + 2)\n",
    "                    ndcg = dcg / idcg if idcg > 0 else 0\n",
    "                    ndcg_values.append(ndcg)\n",
    "                    \n",
    "                    # HR@K (Hit Ratio at K)\n",
    "                    hit = any(item[0] in relevant_items for item in top_k_items)\n",
    "                    hit_ratio_values.append(1 if hit else 0)\n",
    "                    \n",
    "                    # MRR (Mean Reciprocal Rank)\n",
    "                    reciprocal_rank = 0\n",
    "                    for i, (item_id, _, _) in enumerate(top_k_items):\n",
    "                        if item_id in relevant_items:\n",
    "                            reciprocal_rank = 1 / (i + 1)\n",
    "                            break\n",
    "                    mrr_values.append(reciprocal_rank)\n",
    "            \n",
    "            # 평균 메트릭\n",
    "            metrics['NDCG@K'] = np.mean(ndcg_values) if ndcg_values else 0\n",
    "            metrics['HR@K'] = np.mean(hit_ratio_values) if hit_ratio_values else 0\n",
    "            metrics['MRR'] = np.mean(mrr_values) if mrr_values else 0\n",
    "    \n",
    "    # 결과 출력\n",
    "    if verbose:\n",
    "        if criterion is not None:\n",
    "            print(f'테스트 손실: {test_loss:.4f}')\n",
    "        if compute_metrics:\n",
    "            if isinstance(top_k, list):\n",
    "                for k in top_k:\n",
    "                    print(f'NDCG@{k}: {metrics[f\"NDCG@{k}\"]:.4f}')\n",
    "                    print(f'HR@{k}: {metrics[f\"HR@{k}\"]:.4f}')\n",
    "                    print(f'MRR@{k}: {metrics[f\"MRR@{k}\"]:.4f}')\n",
    "            else:\n",
    "                print(f'NDCG@{top_k}: {metrics[\"NDCG@K\"]:.4f}')\n",
    "                print(f'HR@{top_k}: {metrics[\"HR@K\"]:.4f}')\n",
    "                print(f'MRR: {metrics[\"MRR\"]:.4f}')\n",
    "    \n",
    "    return test_loss, metrics\n"
   ]
  },
  {
   "cell_type": "code",
   "execution_count": 19,
   "id": "6d76b6fc",
   "metadata": {},
   "outputs": [
    {
     "name": "stdout",
     "output_type": "stream",
     "text": [
      "Batch 0 loaded: {'user_id': torch.Size([512]), 'item_id': torch.Size([512]), 'user_embed': torch.Size([512, 256]), 'item_embed': torch.Size([512, 256]), 'trust_weight': torch.Size([512]), 'target': torch.Size([512])}\n",
      "Elapsed: 0.13982582092285156\n"
     ]
    }
   ],
   "source": [
    "# 1. num_workers=0 테스트\n",
    "loader = DataLoader(train_dataset, batch_size=512, shuffle=True, num_workers=0, pin_memory=True)\n",
    "import time\n",
    "start = time.time()\n",
    "for i, batch in enumerate(loader):\n",
    "    print(\"Batch\", i, \"loaded:\", {k: v.shape for k,v in batch.items()})\n",
    "    break\n",
    "print(\"Elapsed:\", time.time()-start)"
   ]
  },
  {
   "cell_type": "code",
   "execution_count": null,
   "id": "2c30d752",
   "metadata": {},
   "outputs": [
    {
     "name": "stdout",
     "output_type": "stream",
     "text": [
      "\n",
      "=== GMF 모델 학습 ===\n",
      "GMF 초기화: num_users=18129, num_items=3486\n"
     ]
    },
    {
     "name": "stderr",
     "output_type": "stream",
     "text": [
      "Epoch 1/100 [Train]: 100%|██████████| 358/358 [00:11<00:00, 30.59it/s]\n",
      "Epoch 1/100 [Val]: 100%|██████████| 65/65 [00:01<00:00, 47.95it/s]\n"
     ]
    },
    {
     "name": "stdout",
     "output_type": "stream",
     "text": [
      "Epoch 1/100 | Train Loss: 0.1365 | Val Loss: 0.1141\n",
      "모델 저장: ./models\\gmf_model.pth\n"
     ]
    },
    {
     "name": "stderr",
     "output_type": "stream",
     "text": [
      "Epoch 2/100 [Train]: 100%|██████████| 358/358 [00:12<00:00, 29.45it/s]\n",
      "Epoch 2/100 [Val]: 100%|██████████| 65/65 [00:01<00:00, 48.86it/s]\n"
     ]
    },
    {
     "name": "stdout",
     "output_type": "stream",
     "text": [
      "Epoch 2/100 | Train Loss: 0.1304 | Val Loss: 0.1094\n",
      "모델 저장: ./models\\gmf_model.pth\n"
     ]
    },
    {
     "name": "stderr",
     "output_type": "stream",
     "text": [
      "Epoch 3/100 [Train]: 100%|██████████| 358/358 [00:11<00:00, 30.46it/s]\n",
      "Epoch 3/100 [Val]: 100%|██████████| 65/65 [00:01<00:00, 49.64it/s]\n"
     ]
    },
    {
     "name": "stdout",
     "output_type": "stream",
     "text": [
      "Epoch 3/100 | Train Loss: 0.1267 | Val Loss: 0.1048\n",
      "모델 저장: ./models\\gmf_model.pth\n"
     ]
    },
    {
     "name": "stderr",
     "output_type": "stream",
     "text": [
      "Epoch 4/100 [Train]: 100%|██████████| 358/358 [00:11<00:00, 30.48it/s]\n",
      "Epoch 4/100 [Val]: 100%|██████████| 65/65 [00:01<00:00, 49.89it/s]\n"
     ]
    },
    {
     "name": "stdout",
     "output_type": "stream",
     "text": [
      "Epoch 4/100 | Train Loss: 0.1232 | Val Loss: 0.1001\n",
      "모델 저장: ./models\\gmf_model.pth\n"
     ]
    },
    {
     "name": "stderr",
     "output_type": "stream",
     "text": [
      "Epoch 5/100 [Train]: 100%|██████████| 358/358 [00:11<00:00, 30.23it/s]\n",
      "Epoch 5/100 [Val]: 100%|██████████| 65/65 [00:01<00:00, 49.72it/s]\n"
     ]
    },
    {
     "name": "stdout",
     "output_type": "stream",
     "text": [
      "Epoch 5/100 | Train Loss: 0.1191 | Val Loss: 0.0951\n",
      "모델 저장: ./models\\gmf_model.pth\n"
     ]
    },
    {
     "name": "stderr",
     "output_type": "stream",
     "text": [
      "Epoch 6/100 [Train]: 100%|██████████| 358/358 [00:11<00:00, 30.41it/s]\n",
      "Epoch 6/100 [Val]: 100%|██████████| 65/65 [00:01<00:00, 49.62it/s]\n"
     ]
    },
    {
     "name": "stdout",
     "output_type": "stream",
     "text": [
      "Epoch 6/100 | Train Loss: 0.1140 | Val Loss: 0.0897\n",
      "모델 저장: ./models\\gmf_model.pth\n"
     ]
    },
    {
     "name": "stderr",
     "output_type": "stream",
     "text": [
      "Epoch 7/100 [Train]: 100%|██████████| 358/358 [00:11<00:00, 30.17it/s]\n",
      "Epoch 7/100 [Val]: 100%|██████████| 65/65 [00:01<00:00, 47.01it/s]\n"
     ]
    },
    {
     "name": "stdout",
     "output_type": "stream",
     "text": [
      "Epoch 7/100 | Train Loss: 0.1079 | Val Loss: 0.0842\n",
      "모델 저장: ./models\\gmf_model.pth\n"
     ]
    },
    {
     "name": "stderr",
     "output_type": "stream",
     "text": [
      "Epoch 8/100 [Train]: 100%|██████████| 358/358 [00:11<00:00, 30.37it/s]\n",
      "Epoch 8/100 [Val]: 100%|██████████| 65/65 [00:01<00:00, 48.86it/s]\n"
     ]
    },
    {
     "name": "stdout",
     "output_type": "stream",
     "text": [
      "Epoch 8/100 | Train Loss: 0.1018 | Val Loss: 0.0788\n",
      "모델 저장: ./models\\gmf_model.pth\n"
     ]
    },
    {
     "name": "stderr",
     "output_type": "stream",
     "text": [
      "Epoch 9/100 [Train]: 100%|██████████| 358/358 [00:11<00:00, 30.22it/s]\n",
      "Epoch 9/100 [Val]: 100%|██████████| 65/65 [00:01<00:00, 49.67it/s]\n"
     ]
    },
    {
     "name": "stdout",
     "output_type": "stream",
     "text": [
      "Epoch 9/100 | Train Loss: 0.0965 | Val Loss: 0.0742\n",
      "모델 저장: ./models\\gmf_model.pth\n"
     ]
    },
    {
     "name": "stderr",
     "output_type": "stream",
     "text": [
      "Epoch 10/100 [Train]: 100%|██████████| 358/358 [00:11<00:00, 30.33it/s]\n",
      "Epoch 10/100 [Val]: 100%|██████████| 65/65 [00:01<00:00, 48.91it/s]\n"
     ]
    },
    {
     "name": "stdout",
     "output_type": "stream",
     "text": [
      "Epoch 10/100 | Train Loss: 0.0924 | Val Loss: 0.0705\n",
      "모델 저장: ./models\\gmf_model.pth\n"
     ]
    },
    {
     "name": "stderr",
     "output_type": "stream",
     "text": [
      "Epoch 11/100 [Train]: 100%|██████████| 358/358 [00:11<00:00, 30.33it/s]\n",
      "Epoch 11/100 [Val]: 100%|██████████| 65/65 [00:01<00:00, 49.51it/s]\n"
     ]
    },
    {
     "name": "stdout",
     "output_type": "stream",
     "text": [
      "Epoch 11/100 | Train Loss: 0.0894 | Val Loss: 0.0678\n",
      "모델 저장: ./models\\gmf_model.pth\n"
     ]
    },
    {
     "name": "stderr",
     "output_type": "stream",
     "text": [
      "Epoch 12/100 [Train]: 100%|██████████| 358/358 [00:12<00:00, 29.80it/s]\n",
      "Epoch 12/100 [Val]: 100%|██████████| 65/65 [00:01<00:00, 48.41it/s]\n"
     ]
    },
    {
     "name": "stdout",
     "output_type": "stream",
     "text": [
      "Epoch 12/100 | Train Loss: 0.0874 | Val Loss: 0.0660\n",
      "모델 저장: ./models\\gmf_model.pth\n"
     ]
    },
    {
     "name": "stderr",
     "output_type": "stream",
     "text": [
      "Epoch 13/100 [Train]: 100%|██████████| 358/358 [00:11<00:00, 30.25it/s]\n",
      "Epoch 13/100 [Val]: 100%|██████████| 65/65 [00:01<00:00, 49.71it/s]\n"
     ]
    },
    {
     "name": "stdout",
     "output_type": "stream",
     "text": [
      "Epoch 13/100 | Train Loss: 0.0860 | Val Loss: 0.0648\n",
      "모델 저장: ./models\\gmf_model.pth\n"
     ]
    },
    {
     "name": "stderr",
     "output_type": "stream",
     "text": [
      "Epoch 14/100 [Train]: 100%|██████████| 358/358 [00:11<00:00, 30.57it/s]\n",
      "Epoch 14/100 [Val]: 100%|██████████| 65/65 [00:01<00:00, 50.07it/s]\n"
     ]
    },
    {
     "name": "stdout",
     "output_type": "stream",
     "text": [
      "Epoch 14/100 | Train Loss: 0.0850 | Val Loss: 0.0639\n",
      "모델 저장: ./models\\gmf_model.pth\n"
     ]
    },
    {
     "name": "stderr",
     "output_type": "stream",
     "text": [
      "Epoch 15/100 [Train]: 100%|██████████| 358/358 [00:11<00:00, 30.26it/s]\n",
      "Epoch 15/100 [Val]: 100%|██████████| 65/65 [00:01<00:00, 48.87it/s]\n"
     ]
    },
    {
     "name": "stdout",
     "output_type": "stream",
     "text": [
      "Epoch 15/100 | Train Loss: 0.0843 | Val Loss: 0.0634\n",
      "모델 저장: ./models\\gmf_model.pth\n"
     ]
    },
    {
     "name": "stderr",
     "output_type": "stream",
     "text": [
      "Epoch 16/100 [Train]: 100%|██████████| 358/358 [00:11<00:00, 30.11it/s]\n",
      "Epoch 16/100 [Val]: 100%|██████████| 65/65 [00:01<00:00, 49.98it/s]\n"
     ]
    },
    {
     "name": "stdout",
     "output_type": "stream",
     "text": [
      "Epoch 16/100 | Train Loss: 0.0838 | Val Loss: 0.0631\n",
      "모델 저장: ./models\\gmf_model.pth\n"
     ]
    },
    {
     "name": "stderr",
     "output_type": "stream",
     "text": [
      "Epoch 17/100 [Train]: 100%|██████████| 358/358 [00:11<00:00, 30.42it/s]\n",
      "Epoch 17/100 [Val]: 100%|██████████| 65/65 [00:01<00:00, 49.37it/s]\n"
     ]
    },
    {
     "name": "stdout",
     "output_type": "stream",
     "text": [
      "Epoch 17/100 | Train Loss: 0.0834 | Val Loss: 0.0628\n",
      "모델 저장: ./models\\gmf_model.pth\n"
     ]
    },
    {
     "name": "stderr",
     "output_type": "stream",
     "text": [
      "Epoch 18/100 [Train]: 100%|██████████| 358/358 [00:11<00:00, 30.58it/s]\n",
      "Epoch 18/100 [Val]: 100%|██████████| 65/65 [00:01<00:00, 50.04it/s]\n"
     ]
    },
    {
     "name": "stdout",
     "output_type": "stream",
     "text": [
      "Epoch 18/100 | Train Loss: 0.0831 | Val Loss: 0.0628\n",
      "모델 저장: ./models\\gmf_model.pth\n"
     ]
    },
    {
     "name": "stderr",
     "output_type": "stream",
     "text": [
      "Epoch 19/100 [Train]: 100%|██████████| 358/358 [00:11<00:00, 30.05it/s]\n",
      "Epoch 19/100 [Val]: 100%|██████████| 65/65 [00:01<00:00, 47.38it/s]\n"
     ]
    },
    {
     "name": "stdout",
     "output_type": "stream",
     "text": [
      "Epoch 19/100 | Train Loss: 0.0830 | Val Loss: 0.0627\n",
      "모델 저장: ./models\\gmf_model.pth\n"
     ]
    },
    {
     "name": "stderr",
     "output_type": "stream",
     "text": [
      "Epoch 20/100 [Train]: 100%|██████████| 358/358 [00:12<00:00, 29.74it/s]\n",
      "Epoch 20/100 [Val]: 100%|██████████| 65/65 [00:01<00:00, 50.25it/s]\n"
     ]
    },
    {
     "name": "stdout",
     "output_type": "stream",
     "text": [
      "Epoch 20/100 | Train Loss: 0.0829 | Val Loss: 0.0626\n",
      "모델 저장: ./models\\gmf_model.pth\n"
     ]
    },
    {
     "name": "stderr",
     "output_type": "stream",
     "text": [
      "Epoch 21/100 [Train]: 100%|██████████| 358/358 [00:11<00:00, 31.02it/s]\n",
      "Epoch 21/100 [Val]: 100%|██████████| 65/65 [00:01<00:00, 49.75it/s]\n"
     ]
    },
    {
     "name": "stdout",
     "output_type": "stream",
     "text": [
      "Epoch 21/100 | Train Loss: 0.0828 | Val Loss: 0.0626\n",
      "모델 저장: ./models\\gmf_model.pth\n"
     ]
    },
    {
     "name": "stderr",
     "output_type": "stream",
     "text": [
      "Epoch 22/100 [Train]: 100%|██████████| 358/358 [00:11<00:00, 30.89it/s]\n",
      "Epoch 22/100 [Val]: 100%|██████████| 65/65 [00:01<00:00, 48.84it/s]\n"
     ]
    },
    {
     "name": "stdout",
     "output_type": "stream",
     "text": [
      "Epoch 22/100 | Train Loss: 0.0827 | Val Loss: 0.0626\n",
      "검증 손실이 개선되지 않음. Patience: 1/3\n"
     ]
    },
    {
     "name": "stderr",
     "output_type": "stream",
     "text": [
      "Epoch 23/100 [Train]: 100%|██████████| 358/358 [00:11<00:00, 30.79it/s]\n",
      "Epoch 23/100 [Val]: 100%|██████████| 65/65 [00:01<00:00, 48.44it/s]\n"
     ]
    },
    {
     "name": "stdout",
     "output_type": "stream",
     "text": [
      "Epoch 23/100 | Train Loss: 0.0826 | Val Loss: 0.0625\n",
      "모델 저장: ./models\\gmf_model.pth\n"
     ]
    },
    {
     "name": "stderr",
     "output_type": "stream",
     "text": [
      "Epoch 24/100 [Train]: 100%|██████████| 358/358 [00:11<00:00, 31.02it/s]\n",
      "Epoch 24/100 [Val]: 100%|██████████| 65/65 [00:01<00:00, 50.32it/s]\n"
     ]
    },
    {
     "name": "stdout",
     "output_type": "stream",
     "text": [
      "Epoch 24/100 | Train Loss: 0.0827 | Val Loss: 0.0625\n",
      "검증 손실이 개선되지 않음. Patience: 1/3\n"
     ]
    },
    {
     "name": "stderr",
     "output_type": "stream",
     "text": [
      "Epoch 25/100 [Train]: 100%|██████████| 358/358 [00:11<00:00, 30.79it/s]\n",
      "Epoch 25/100 [Val]: 100%|██████████| 65/65 [00:01<00:00, 47.87it/s]\n"
     ]
    },
    {
     "name": "stdout",
     "output_type": "stream",
     "text": [
      "Epoch 25/100 | Train Loss: 0.0826 | Val Loss: 0.0625\n",
      "검증 손실이 개선되지 않음. Patience: 2/3\n"
     ]
    },
    {
     "name": "stderr",
     "output_type": "stream",
     "text": [
      "Epoch 26/100 [Train]: 100%|██████████| 358/358 [00:12<00:00, 29.43it/s]\n",
      "Epoch 26/100 [Val]: 100%|██████████| 65/65 [00:01<00:00, 47.29it/s]\n"
     ]
    },
    {
     "name": "stdout",
     "output_type": "stream",
     "text": [
      "Epoch 26/100 | Train Loss: 0.0825 | Val Loss: 0.0624\n",
      "모델 저장: ./models\\gmf_model.pth\n"
     ]
    },
    {
     "name": "stderr",
     "output_type": "stream",
     "text": [
      "Epoch 27/100 [Train]: 100%|██████████| 358/358 [00:10<00:00, 32.93it/s]\n",
      "Epoch 27/100 [Val]: 100%|██████████| 65/65 [00:01<00:00, 49.66it/s]\n"
     ]
    },
    {
     "name": "stdout",
     "output_type": "stream",
     "text": [
      "Epoch 27/100 | Train Loss: 0.0825 | Val Loss: 0.0624\n",
      "검증 손실이 개선되지 않음. Patience: 1/3\n"
     ]
    },
    {
     "name": "stderr",
     "output_type": "stream",
     "text": [
      "Epoch 28/100 [Train]: 100%|██████████| 358/358 [00:11<00:00, 30.60it/s]\n",
      "Epoch 28/100 [Val]: 100%|██████████| 65/65 [00:01<00:00, 48.97it/s]\n"
     ]
    },
    {
     "name": "stdout",
     "output_type": "stream",
     "text": [
      "Epoch 28/100 | Train Loss: 0.0824 | Val Loss: 0.0624\n",
      "모델 저장: ./models\\gmf_model.pth\n"
     ]
    },
    {
     "name": "stderr",
     "output_type": "stream",
     "text": [
      "Epoch 29/100 [Train]: 100%|██████████| 358/358 [00:11<00:00, 31.82it/s]\n",
      "Epoch 29/100 [Val]: 100%|██████████| 65/65 [00:01<00:00, 45.70it/s]\n"
     ]
    },
    {
     "name": "stdout",
     "output_type": "stream",
     "text": [
      "Epoch 29/100 | Train Loss: 0.0823 | Val Loss: 0.0625\n",
      "검증 손실이 개선되지 않음. Patience: 1/3\n"
     ]
    },
    {
     "name": "stderr",
     "output_type": "stream",
     "text": [
      "Epoch 30/100 [Train]: 100%|██████████| 358/358 [00:12<00:00, 28.17it/s]\n",
      "Epoch 30/100 [Val]: 100%|██████████| 65/65 [00:01<00:00, 48.03it/s]\n"
     ]
    },
    {
     "name": "stdout",
     "output_type": "stream",
     "text": [
      "Epoch 30/100 | Train Loss: 0.0823 | Val Loss: 0.0625\n",
      "검증 손실이 개선되지 않음. Patience: 2/3\n"
     ]
    },
    {
     "name": "stderr",
     "output_type": "stream",
     "text": [
      "Epoch 31/100 [Train]: 100%|██████████| 358/358 [00:11<00:00, 29.93it/s]\n",
      "Epoch 31/100 [Val]: 100%|██████████| 65/65 [00:01<00:00, 48.71it/s]\n"
     ]
    },
    {
     "name": "stdout",
     "output_type": "stream",
     "text": [
      "Epoch 31/100 | Train Loss: 0.0822 | Val Loss: 0.0625\n",
      "검증 손실이 개선되지 않음. Patience: 3/3\n",
      "검증 손실 3회 연속 개선 없음. 조기 종료.\n",
      "\n",
      "=== GMF 모델 평가 ===\n"
     ]
    },
    {
     "name": "stderr",
     "output_type": "stream",
     "text": [
      "평가 중: 100%|██████████| 28/28 [00:00<00:00, 47.65it/s, loss=0.0438]\n"
     ]
    },
    {
     "name": "stdout",
     "output_type": "stream",
     "text": [
      "테스트 손실: 0.0591\n",
      "NDCG@5: 0.9994\n",
      "HR@5: 1.0000\n",
      "MRR@5: 0.9992\n",
      "NDCG@10: 0.9994\n",
      "HR@10: 1.0000\n",
      "MRR@10: 0.9992\n",
      "NDCG@15: 0.9994\n",
      "HR@15: 1.0000\n",
      "MRR@15: 0.9992\n",
      "NDCG@20: 0.9994\n",
      "HR@20: 1.0000\n",
      "MRR@20: 0.9992\n",
      "\n",
      "=== MLP 모델 학습 ===\n",
      "MLP 초기화: num_users=18129, num_items=3486\n"
     ]
    },
    {
     "name": "stderr",
     "output_type": "stream",
     "text": [
      "Epoch 1/100 [Train]: 100%|██████████| 358/358 [00:12<00:00, 29.04it/s]\n",
      "Epoch 1/100 [Val]: 100%|██████████| 65/65 [00:01<00:00, 47.32it/s]\n"
     ]
    },
    {
     "name": "stdout",
     "output_type": "stream",
     "text": [
      "Epoch 1/100 | Train Loss: 0.1038 | Val Loss: 0.0623\n",
      "모델 저장: ./models\\mlp_model.pth\n"
     ]
    },
    {
     "name": "stderr",
     "output_type": "stream",
     "text": [
      "Epoch 2/100 [Train]: 100%|██████████| 358/358 [00:12<00:00, 28.80it/s]\n",
      "Epoch 2/100 [Val]: 100%|██████████| 65/65 [00:01<00:00, 53.25it/s]\n"
     ]
    },
    {
     "name": "stdout",
     "output_type": "stream",
     "text": [
      "Epoch 2/100 | Train Loss: 0.0871 | Val Loss: 0.0589\n",
      "모델 저장: ./models\\mlp_model.pth\n"
     ]
    },
    {
     "name": "stderr",
     "output_type": "stream",
     "text": [
      "Epoch 3/100 [Train]: 100%|██████████| 358/358 [00:10<00:00, 32.60it/s]\n",
      "Epoch 3/100 [Val]: 100%|██████████| 65/65 [00:01<00:00, 52.59it/s]\n"
     ]
    },
    {
     "name": "stdout",
     "output_type": "stream",
     "text": [
      "Epoch 3/100 | Train Loss: 0.0834 | Val Loss: 0.0582\n",
      "모델 저장: ./models\\mlp_model.pth\n"
     ]
    },
    {
     "name": "stderr",
     "output_type": "stream",
     "text": [
      "Epoch 4/100 [Train]: 100%|██████████| 358/358 [00:11<00:00, 32.43it/s]\n",
      "Epoch 4/100 [Val]: 100%|██████████| 65/65 [00:01<00:00, 52.09it/s]\n"
     ]
    },
    {
     "name": "stdout",
     "output_type": "stream",
     "text": [
      "Epoch 4/100 | Train Loss: 0.0827 | Val Loss: 0.0588\n",
      "검증 손실이 개선되지 않음. Patience: 1/3\n"
     ]
    },
    {
     "name": "stderr",
     "output_type": "stream",
     "text": [
      "Epoch 5/100 [Train]: 100%|██████████| 358/358 [00:11<00:00, 32.21it/s]\n",
      "Epoch 5/100 [Val]: 100%|██████████| 65/65 [00:01<00:00, 53.01it/s]\n"
     ]
    },
    {
     "name": "stdout",
     "output_type": "stream",
     "text": [
      "Epoch 5/100 | Train Loss: 0.0824 | Val Loss: 0.0583\n",
      "검증 손실이 개선되지 않음. Patience: 2/3\n"
     ]
    },
    {
     "name": "stderr",
     "output_type": "stream",
     "text": [
      "Epoch 6/100 [Train]: 100%|██████████| 358/358 [00:11<00:00, 32.23it/s]\n",
      "Epoch 6/100 [Val]: 100%|██████████| 65/65 [00:01<00:00, 51.69it/s]\n"
     ]
    },
    {
     "name": "stdout",
     "output_type": "stream",
     "text": [
      "Epoch 6/100 | Train Loss: 0.0826 | Val Loss: 0.0575\n",
      "모델 저장: ./models\\mlp_model.pth\n"
     ]
    },
    {
     "name": "stderr",
     "output_type": "stream",
     "text": [
      "Epoch 7/100 [Train]: 100%|██████████| 358/358 [00:11<00:00, 32.43it/s]\n",
      "Epoch 7/100 [Val]: 100%|██████████| 65/65 [00:01<00:00, 52.34it/s]\n"
     ]
    },
    {
     "name": "stdout",
     "output_type": "stream",
     "text": [
      "Epoch 7/100 | Train Loss: 0.0824 | Val Loss: 0.0577\n",
      "검증 손실이 개선되지 않음. Patience: 1/3\n"
     ]
    },
    {
     "name": "stderr",
     "output_type": "stream",
     "text": [
      "Epoch 8/100 [Train]: 100%|██████████| 358/358 [00:11<00:00, 30.76it/s]\n",
      "Epoch 8/100 [Val]: 100%|██████████| 65/65 [00:01<00:00, 51.19it/s]\n"
     ]
    },
    {
     "name": "stdout",
     "output_type": "stream",
     "text": [
      "Epoch 8/100 | Train Loss: 0.0824 | Val Loss: 0.0580\n",
      "검증 손실이 개선되지 않음. Patience: 2/3\n"
     ]
    },
    {
     "name": "stderr",
     "output_type": "stream",
     "text": [
      "Epoch 9/100 [Train]: 100%|██████████| 358/358 [00:11<00:00, 31.91it/s]\n",
      "Epoch 9/100 [Val]: 100%|██████████| 65/65 [00:01<00:00, 48.69it/s]\n"
     ]
    },
    {
     "name": "stdout",
     "output_type": "stream",
     "text": [
      "Epoch 9/100 | Train Loss: 0.0822 | Val Loss: 0.0570\n",
      "모델 저장: ./models\\mlp_model.pth\n"
     ]
    },
    {
     "name": "stderr",
     "output_type": "stream",
     "text": [
      "Epoch 10/100 [Train]: 100%|██████████| 358/358 [00:17<00:00, 19.91it/s]\n",
      "Epoch 10/100 [Val]: 100%|██████████| 65/65 [00:03<00:00, 16.34it/s]\n"
     ]
    },
    {
     "name": "stdout",
     "output_type": "stream",
     "text": [
      "Epoch 10/100 | Train Loss: 0.0822 | Val Loss: 0.0581\n",
      "검증 손실이 개선되지 않음. Patience: 1/3\n"
     ]
    },
    {
     "name": "stderr",
     "output_type": "stream",
     "text": [
      "Epoch 11/100 [Train]: 100%|██████████| 358/358 [00:27<00:00, 13.18it/s]\n",
      "Epoch 11/100 [Val]: 100%|██████████| 65/65 [00:04<00:00, 15.68it/s]\n"
     ]
    },
    {
     "name": "stdout",
     "output_type": "stream",
     "text": [
      "Epoch 11/100 | Train Loss: 0.0821 | Val Loss: 0.0572\n",
      "검증 손실이 개선되지 않음. Patience: 2/3\n"
     ]
    },
    {
     "name": "stderr",
     "output_type": "stream",
     "text": [
      "Epoch 12/100 [Train]: 100%|██████████| 358/358 [00:28<00:00, 12.71it/s]\n",
      "Epoch 12/100 [Val]: 100%|██████████| 65/65 [00:03<00:00, 16.57it/s]\n"
     ]
    },
    {
     "name": "stdout",
     "output_type": "stream",
     "text": [
      "Epoch 12/100 | Train Loss: 0.0819 | Val Loss: 0.0581\n",
      "검증 손실이 개선되지 않음. Patience: 3/3\n",
      "검증 손실 3회 연속 개선 없음. 조기 종료.\n",
      "\n",
      "=== MLP 모델 평가 ===\n"
     ]
    },
    {
     "name": "stderr",
     "output_type": "stream",
     "text": [
      "평가 중: 100%|██████████| 28/28 [00:01<00:00, 14.91it/s, loss=0.0438]\n"
     ]
    },
    {
     "name": "stdout",
     "output_type": "stream",
     "text": [
      "테스트 손실: 0.0539\n",
      "NDCG@5: 0.9994\n",
      "HR@5: 1.0000\n",
      "MRR@5: 0.9992\n",
      "NDCG@10: 0.9994\n",
      "HR@10: 1.0000\n",
      "MRR@10: 0.9992\n",
      "NDCG@15: 0.9994\n",
      "HR@15: 1.0000\n",
      "MRR@15: 0.9992\n",
      "NDCG@20: 0.9994\n",
      "HR@20: 1.0000\n",
      "MRR@20: 0.9992\n",
      "\n",
      "=== NeuMF 모델 학습 ===\n",
      "NeuMF 초기화: num_users=18129, num_items=3486\n"
     ]
    },
    {
     "name": "stderr",
     "output_type": "stream",
     "text": [
      "Epoch 1/100 [Train]: 100%|██████████| 358/358 [00:40<00:00,  8.90it/s]\n",
      "Epoch 1/100 [Val]: 100%|██████████| 65/65 [00:01<00:00, 43.90it/s]\n"
     ]
    },
    {
     "name": "stdout",
     "output_type": "stream",
     "text": [
      "Epoch 1/100 | Train Loss: 0.1139 | Val Loss: 0.0611\n",
      "모델 저장: ./models\\neumf_model.pth\n"
     ]
    },
    {
     "name": "stderr",
     "output_type": "stream",
     "text": [
      "Epoch 2/100 [Train]: 100%|██████████| 358/358 [00:09<00:00, 37.99it/s]\n",
      "Epoch 2/100 [Val]: 100%|██████████| 65/65 [00:01<00:00, 50.51it/s]\n"
     ]
    },
    {
     "name": "stdout",
     "output_type": "stream",
     "text": [
      "Epoch 2/100 | Train Loss: 0.0907 | Val Loss: 0.0589\n",
      "모델 저장: ./models\\neumf_model.pth\n"
     ]
    },
    {
     "name": "stderr",
     "output_type": "stream",
     "text": [
      "Epoch 3/100 [Train]: 100%|██████████| 358/358 [00:09<00:00, 39.01it/s]\n",
      "Epoch 3/100 [Val]: 100%|██████████| 65/65 [00:01<00:00, 47.27it/s]\n"
     ]
    },
    {
     "name": "stdout",
     "output_type": "stream",
     "text": [
      "Epoch 3/100 | Train Loss: 0.0860 | Val Loss: 0.0577\n",
      "모델 저장: ./models\\neumf_model.pth\n"
     ]
    },
    {
     "name": "stderr",
     "output_type": "stream",
     "text": [
      "Epoch 4/100 [Train]: 100%|██████████| 358/358 [00:23<00:00, 15.42it/s]\n",
      "Epoch 4/100 [Val]: 100%|██████████| 65/65 [00:01<00:00, 48.98it/s]\n"
     ]
    },
    {
     "name": "stdout",
     "output_type": "stream",
     "text": [
      "Epoch 4/100 | Train Loss: 0.0843 | Val Loss: 0.0577\n",
      "모델 저장: ./models\\neumf_model.pth\n"
     ]
    },
    {
     "name": "stderr",
     "output_type": "stream",
     "text": [
      "Epoch 5/100 [Train]: 100%|██████████| 358/358 [00:28<00:00, 12.71it/s]\n",
      "Epoch 5/100 [Val]: 100%|██████████| 65/65 [00:07<00:00,  8.53it/s]\n"
     ]
    },
    {
     "name": "stdout",
     "output_type": "stream",
     "text": [
      "Epoch 5/100 | Train Loss: 0.0837 | Val Loss: 0.0588\n",
      "검증 손실이 개선되지 않음. Patience: 1/3\n"
     ]
    },
    {
     "name": "stderr",
     "output_type": "stream",
     "text": [
      "Epoch 6/100 [Train]: 100%|██████████| 358/358 [00:59<00:00,  6.01it/s]\n",
      "Epoch 6/100 [Val]: 100%|██████████| 65/65 [00:08<00:00,  8.08it/s]\n"
     ]
    },
    {
     "name": "stdout",
     "output_type": "stream",
     "text": [
      "Epoch 6/100 | Train Loss: 0.0834 | Val Loss: 0.0586\n",
      "검증 손실이 개선되지 않음. Patience: 2/3\n"
     ]
    },
    {
     "name": "stderr",
     "output_type": "stream",
     "text": [
      "Epoch 7/100 [Train]: 100%|██████████| 358/358 [00:48<00:00,  7.36it/s]\n",
      "Epoch 7/100 [Val]: 100%|██████████| 65/65 [00:04<00:00, 15.20it/s]\n"
     ]
    },
    {
     "name": "stdout",
     "output_type": "stream",
     "text": [
      "Epoch 7/100 | Train Loss: 0.0831 | Val Loss: 0.0580\n",
      "검증 손실이 개선되지 않음. Patience: 3/3\n",
      "검증 손실 3회 연속 개선 없음. 조기 종료.\n",
      "\n",
      "=== NeuMF 모델 평가 ===\n"
     ]
    },
    {
     "name": "stderr",
     "output_type": "stream",
     "text": [
      "평가 중: 100%|██████████| 28/28 [00:00<00:00, 45.05it/s, loss=0.0442]\n"
     ]
    },
    {
     "name": "stdout",
     "output_type": "stream",
     "text": [
      "테스트 손실: 0.0550\n",
      "NDCG@5: 0.9997\n",
      "HR@5: 1.0000\n",
      "MRR@5: 0.9996\n",
      "NDCG@10: 0.9997\n",
      "HR@10: 1.0000\n",
      "MRR@10: 0.9996\n",
      "NDCG@15: 0.9997\n",
      "HR@15: 1.0000\n",
      "MRR@15: 0.9996\n",
      "NDCG@20: 0.9997\n",
      "HR@20: 1.0000\n",
      "MRR@20: 0.9996\n",
      "\n",
      "=== 모델 성능 비교 ===\n",
      "모델         테스트 손실          NDCG@K     HR@K       MRR       \n",
      "-------------------------------------------------------\n"
     ]
    },
    {
     "ename": "KeyError",
     "evalue": "'NDCG@K'",
     "output_type": "error",
     "traceback": [
      "\u001b[1;31m---------------------------------------------------------------------------\u001b[0m",
      "\u001b[1;31mKeyError\u001b[0m                                  Traceback (most recent call last)",
      "Cell \u001b[1;32mIn[20], line 127\u001b[0m\n\u001b[0;32m    124\u001b[0m     \u001b[38;5;28;01mreturn\u001b[39;00m results\n\u001b[0;32m    126\u001b[0m \u001b[38;5;66;03m# 베이스라인 모델 학습 (신뢰도 가중치 미사용)\u001b[39;00m\n\u001b[1;32m--> 127\u001b[0m baseline_results \u001b[38;5;241m=\u001b[39m \u001b[43mtrain_baseline_models\u001b[49m\u001b[43m(\u001b[49m\n\u001b[0;32m    128\u001b[0m \u001b[43m    \u001b[49m\u001b[43mtrain_loader\u001b[49m\u001b[43m,\u001b[49m\u001b[43m \u001b[49m\u001b[43mval_loader\u001b[49m\u001b[43m,\u001b[49m\u001b[43m \u001b[49m\u001b[43mtest_loader\u001b[49m\u001b[43m,\u001b[49m\n\u001b[0;32m    129\u001b[0m \u001b[43m    \u001b[49m\u001b[43mUSER_EMBED_DIM\u001b[49m\u001b[43m,\u001b[49m\u001b[43m \u001b[49m\u001b[43mITEM_EMBED_DIM\u001b[49m\u001b[43m,\u001b[49m\n\u001b[0;32m    130\u001b[0m \u001b[43m    \u001b[49m\u001b[43mNUM_USERS\u001b[49m\u001b[43m,\u001b[49m\u001b[43m \u001b[49m\u001b[43mNUM_ITEMS\u001b[49m\u001b[43m,\u001b[49m\u001b[43m \u001b[49m\u001b[43mlatent_dim\u001b[49m\u001b[38;5;241;43m=\u001b[39;49m\u001b[38;5;241;43m64\u001b[39;49m\u001b[43m,\u001b[49m\n\u001b[0;32m    131\u001b[0m \u001b[43m    \u001b[49m\u001b[43muse_trust_weight\u001b[49m\u001b[38;5;241;43m=\u001b[39;49m\u001b[38;5;28;43;01mFalse\u001b[39;49;00m\n\u001b[0;32m    132\u001b[0m \u001b[43m)\u001b[49m\n\u001b[0;32m    134\u001b[0m \u001b[38;5;66;03m# 손실 그래프 시각화\u001b[39;00m\n\u001b[0;32m    135\u001b[0m plt\u001b[38;5;241m.\u001b[39mfigure(figsize\u001b[38;5;241m=\u001b[39m(\u001b[38;5;241m15\u001b[39m, \u001b[38;5;241m5\u001b[39m))\n",
      "Cell \u001b[1;32mIn[20], line 122\u001b[0m, in \u001b[0;36mtrain_baseline_models\u001b[1;34m(train_loader, val_loader, test_loader, user_embed_dim, item_embed_dim, num_users, num_items, latent_dim, use_trust_weight)\u001b[0m\n\u001b[0;32m    119\u001b[0m \u001b[38;5;28mprint\u001b[39m(\u001b[38;5;124m\"\u001b[39m\u001b[38;5;124m-\u001b[39m\u001b[38;5;124m\"\u001b[39m \u001b[38;5;241m*\u001b[39m \u001b[38;5;241m55\u001b[39m)\n\u001b[0;32m    121\u001b[0m \u001b[38;5;28;01mfor\u001b[39;00m model_name, result \u001b[38;5;129;01min\u001b[39;00m results\u001b[38;5;241m.\u001b[39mitems():\n\u001b[1;32m--> 122\u001b[0m     \u001b[38;5;28mprint\u001b[39m(\u001b[38;5;124mf\u001b[39m\u001b[38;5;124m\"\u001b[39m\u001b[38;5;132;01m{\u001b[39;00mmodel_name\u001b[38;5;132;01m:\u001b[39;00m\u001b[38;5;124m<10\u001b[39m\u001b[38;5;132;01m}\u001b[39;00m\u001b[38;5;124m \u001b[39m\u001b[38;5;132;01m{\u001b[39;00mresult[\u001b[38;5;124m'\u001b[39m\u001b[38;5;124mtest_loss\u001b[39m\u001b[38;5;124m'\u001b[39m]\u001b[38;5;132;01m:\u001b[39;00m\u001b[38;5;124m<15.4f\u001b[39m\u001b[38;5;132;01m}\u001b[39;00m\u001b[38;5;124m \u001b[39m\u001b[38;5;132;01m{\u001b[39;00m\u001b[43mresult\u001b[49m\u001b[43m[\u001b[49m\u001b[38;5;124;43m'\u001b[39;49m\u001b[38;5;124;43mmetrics\u001b[39;49m\u001b[38;5;124;43m'\u001b[39;49m\u001b[43m]\u001b[49m\u001b[43m[\u001b[49m\u001b[38;5;124;43m'\u001b[39;49m\u001b[38;5;124;43mNDCG@K\u001b[39;49m\u001b[38;5;124;43m'\u001b[39;49m\u001b[43m]\u001b[49m\u001b[38;5;132;01m:\u001b[39;00m\u001b[38;5;124m<10.4f\u001b[39m\u001b[38;5;132;01m}\u001b[39;00m\u001b[38;5;124m \u001b[39m\u001b[38;5;132;01m{\u001b[39;00mresult[\u001b[38;5;124m'\u001b[39m\u001b[38;5;124mmetrics\u001b[39m\u001b[38;5;124m'\u001b[39m][\u001b[38;5;124m'\u001b[39m\u001b[38;5;124mHR@K\u001b[39m\u001b[38;5;124m'\u001b[39m]\u001b[38;5;132;01m:\u001b[39;00m\u001b[38;5;124m<10.4f\u001b[39m\u001b[38;5;132;01m}\u001b[39;00m\u001b[38;5;124m \u001b[39m\u001b[38;5;132;01m{\u001b[39;00mresult[\u001b[38;5;124m'\u001b[39m\u001b[38;5;124mmetrics\u001b[39m\u001b[38;5;124m'\u001b[39m][\u001b[38;5;124m'\u001b[39m\u001b[38;5;124mMRR\u001b[39m\u001b[38;5;124m'\u001b[39m]\u001b[38;5;132;01m:\u001b[39;00m\u001b[38;5;124m<10.4f\u001b[39m\u001b[38;5;132;01m}\u001b[39;00m\u001b[38;5;124m\"\u001b[39m)\n\u001b[0;32m    124\u001b[0m \u001b[38;5;28;01mreturn\u001b[39;00m results\n",
      "\u001b[1;31mKeyError\u001b[0m: 'NDCG@K'"
     ]
    }
   ],
   "source": [
    "## 6. 기본 모델 학습 (베이스라인)\n",
    "\n",
    "def train_baseline_models(train_loader, val_loader, test_loader, user_embed_dim, item_embed_dim, \n",
    "                          num_users, num_items, latent_dim=64, use_trust_weight=False):\n",
    "    \"\"\"\n",
    "    베이스라인 모델 학습 및 평가\n",
    "    \n",
    "    Args:\n",
    "        train_loader (DataLoader): 훈련 데이터 로더\n",
    "        val_loader (DataLoader): 검증 데이터 로더\n",
    "        test_loader (DataLoader): 테스트 데이터 로더\n",
    "        user_embed_dim (int): 사용자 임베딩 차원\n",
    "        item_embed_dim (int): 아이템 임베딩 차원\n",
    "        num_users (int): 사용자 수\n",
    "        num_items (int): 아이템 수\n",
    "        latent_dim (int): 잠재 요인 차원\n",
    "        use_trust_weight (bool): 신뢰도 가중치 사용 여부\n",
    "        \n",
    "    Returns:\n",
    "        tuple: (GMF 모델, MLP 모델, NeuMF 모델, 모델별 메트릭)\n",
    "    \"\"\"\n",
    "    \n",
    "    # 모델 파라미터\n",
    "    learning_rate = 0.0001\n",
    "    num_epochs = 100\n",
    "    patience = 3\n",
    "    top_k = [5, 10, 15, 20]\n",
    "    \n",
    "    # 손실 함수\n",
    "    criterion = nn.MSELoss(reduction='none')  # 개별 손실 계산을 위해 reduction='none'\n",
    "    \n",
    "    results = {}\n",
    "    \n",
    "    # 1. GMF 모델 학습\n",
    "    print(\"\\n=== GMF 모델 학습 ===\")\n",
    "    gmf_model = GMF(num_users, num_items, user_embed_dim, item_embed_dim, latent_dim)\n",
    "    gmf_optimizer = optim.Adam(gmf_model.parameters(), lr=learning_rate, weight_decay=0.01)\n",
    "    gmf_scheduler = optim.lr_scheduler.ReduceLROnPlateau(gmf_optimizer, 'min', patience=3, factor=0.5)\n",
    "    \n",
    "    gmf_model, gmf_train_losses, gmf_val_losses = train_model(\n",
    "        gmf_model, train_loader, val_loader, criterion, gmf_optimizer,\n",
    "        scheduler=gmf_scheduler, num_epochs=num_epochs, patience=patience,\n",
    "        use_trust_weight=use_trust_weight, model_save_path=os.path.join(MODELS_DIR, \"gmf_model.pth\")\n",
    "    )\n",
    "    \n",
    "    # GMF 모델 평가\n",
    "    print(\"\\n=== GMF 모델 평가 ===\")\n",
    "    gmf_test_loss, gmf_metrics = evaluate_model(\n",
    "        gmf_model, test_loader, criterion, use_trust_weight=use_trust_weight, top_k=top_k\n",
    "    )\n",
    "    \n",
    "    results['GMF'] = {\n",
    "        'model': gmf_model,\n",
    "        'train_losses': gmf_train_losses,\n",
    "        'val_losses': gmf_val_losses,\n",
    "        'test_loss': gmf_test_loss,\n",
    "        'metrics': gmf_metrics\n",
    "    }\n",
    "    \n",
    "    # 2. MLP 모델 학습\n",
    "    print(\"\\n=== MLP 모델 학습 ===\")\n",
    "    mlp_model = MLP(num_users, num_items, user_embed_dim, item_embed_dim, latent_dim, [128, 64, 32])\n",
    "    mlp_optimizer = optim.Adam(mlp_model.parameters(), lr=learning_rate, weight_decay=0.01)\n",
    "    mlp_scheduler = optim.lr_scheduler.ReduceLROnPlateau(mlp_optimizer, 'min', patience=3, factor=0.5)\n",
    "    \n",
    "    mlp_model, mlp_train_losses, mlp_val_losses = train_model(\n",
    "        mlp_model, train_loader, val_loader, criterion, mlp_optimizer,\n",
    "        scheduler=mlp_scheduler, num_epochs=num_epochs, patience=patience,\n",
    "        use_trust_weight=use_trust_weight, model_save_path=os.path.join(MODELS_DIR, \"mlp_model.pth\")\n",
    "    )\n",
    "    \n",
    "    # MLP 모델 평가\n",
    "    print(\"\\n=== MLP 모델 평가 ===\")\n",
    "    mlp_test_loss, mlp_metrics = evaluate_model(\n",
    "        mlp_model, test_loader, criterion, use_trust_weight=use_trust_weight, top_k=top_k\n",
    "    )\n",
    "    \n",
    "    results['MLP'] = {\n",
    "        'model': mlp_model,\n",
    "        'train_losses': mlp_train_losses,\n",
    "        'val_losses': mlp_val_losses,\n",
    "        'test_loss': mlp_test_loss,\n",
    "        'metrics': mlp_metrics\n",
    "    }\n",
    "    \n",
    "    # 3. NeuMF 모델 학습\n",
    "    print(\"\\n=== NeuMF 모델 학습 ===\")\n",
    "    neumf_model = NeuMF(\n",
    "        num_users, num_items, user_embed_dim, item_embed_dim,\n",
    "        latent_dim_gmf=latent_dim, latent_dim_mlp=latent_dim, layers=[128, 64, 32],\n",
    "        use_text_embed=True, use_id_embed=True\n",
    "    )\n",
    "    neumf_optimizer = optim.Adam(neumf_model.parameters(), lr=learning_rate, weight_decay=0.01)\n",
    "    neumf_scheduler = optim.lr_scheduler.ReduceLROnPlateau(neumf_optimizer, 'min', patience=3, factor=0.5)\n",
    "    \n",
    "    neumf_model, neumf_train_losses, neumf_val_losses = train_model(\n",
    "        neumf_model, train_loader, val_loader, criterion, neumf_optimizer,\n",
    "        scheduler=neumf_scheduler, num_epochs=num_epochs, patience=patience,\n",
    "        use_trust_weight=use_trust_weight, model_save_path=os.path.join(MODELS_DIR, \"neumf_model.pth\")\n",
    "    )\n",
    "    \n",
    "    # NeuMF 모델 평가\n",
    "    print(\"\\n=== NeuMF 모델 평가 ===\")\n",
    "    neumf_test_loss, neumf_metrics = evaluate_model(\n",
    "        neumf_model, test_loader, criterion, use_trust_weight=use_trust_weight, top_k=top_k\n",
    "    )\n",
    "    \n",
    "    results['NeuMF'] = {\n",
    "        'model': neumf_model,\n",
    "        'train_losses': neumf_train_losses,\n",
    "        'val_losses': neumf_val_losses,\n",
    "        'test_loss': neumf_test_loss,\n",
    "        'metrics': neumf_metrics\n",
    "    }\n",
    "    \n",
    "    # 결과 출력\n",
    "# 결과 출력\n",
    "    print(\"\\n=== 모델 성능 비교 ===\")\n",
    "    print(f\"{'모델':<10} {'테스트 손실':<15} {'NDCG@10':<10} {'HR@10':<10} {'MRR@10':<10}\")\n",
    "    print(\"-\" * 55)\n",
    "\n",
    "    for model_name, result in results.items():\n",
    "        metrics = result['metrics']\n",
    "        print(f\"{model_name:<10} {result['test_loss']:<15.4f} {metrics['NDCG@10']:<10.4f} {metrics['HR@10']:<10.4f} {metrics['MRR@10']:<10.4f}\")\n",
    "    \n",
    "    return results\n",
    "\n",
    "# 베이스라인 모델 학습 (신뢰도 가중치 미사용)\n",
    "baseline_results = train_baseline_models(\n",
    "    train_loader, val_loader, test_loader,\n",
    "    USER_EMBED_DIM, ITEM_EMBED_DIM,\n",
    "    NUM_USERS, NUM_ITEMS, latent_dim=64,\n",
    "    use_trust_weight=False\n",
    ")\n",
    "\n",
    "# 손실 그래프 시각화\n",
    "plt.figure(figsize=(15, 5))\n",
    "\n",
    "plt.subplot(1, 3, 1)\n",
    "plt.plot(baseline_results['GMF']['train_losses'], label='Train')\n",
    "plt.plot(baseline_results['GMF']['val_losses'], label='Validation')\n",
    "plt.title('GMF 손실')\n",
    "plt.xlabel('Epoch')\n",
    "plt.ylabel('Loss')\n",
    "plt.legend()\n",
    "plt.grid(True, alpha=0.3)\n",
    "\n",
    "plt.subplot(1, 3, 2)\n",
    "plt.plot(baseline_results['MLP']['train_losses'], label='Train')\n",
    "plt.plot(baseline_results['MLP']['val_losses'], label='Validation')\n",
    "plt.title('MLP 손실')\n",
    "plt.xlabel('Epoch')\n",
    "plt.ylabel('Loss')\n",
    "plt.legend()\n",
    "plt.grid(True, alpha=0.3)\n",
    "\n",
    "plt.subplot(1, 3, 3)\n",
    "plt.plot(baseline_results['NeuMF']['train_losses'], label='Train')\n",
    "plt.plot(baseline_results['NeuMF']['val_losses'], label='Validation')\n",
    "plt.title('NeuMF 손실')\n",
    "plt.xlabel('Epoch')\n",
    "plt.ylabel('Loss')\n",
    "plt.legend()\n",
    "plt.grid(True, alpha=0.3)\n",
    "\n",
    "plt.tight_layout()\n",
    "plt.show()"
   ]
  },
  {
   "cell_type": "code",
   "execution_count": null,
   "id": "492235b2",
   "metadata": {},
   "outputs": [
    {
     "name": "stdout",
     "output_type": "stream",
     "text": [
      "\n",
      "=== NeuMF_ID_only (ID 임베딩만 사용) ===\n",
      "NeuMF 초기화: num_users=18129, num_items=3486\n"
     ]
    },
    {
     "name": "stderr",
     "output_type": "stream",
     "text": [
      "Epoch 1/20 [Train]: 100%|██████████| 358/358 [00:13<00:00, 26.46it/s]\n",
      "Epoch 1/20 [Val]: 100%|██████████| 65/65 [00:01<00:00, 46.23it/s]\n"
     ]
    },
    {
     "name": "stdout",
     "output_type": "stream",
     "text": [
      "Epoch 1/20 | Train Loss: 0.0812 | Val Loss: 0.0934\n",
      "모델 저장: ./models\\NeuMF_ID_only.pth\n"
     ]
    },
    {
     "name": "stderr",
     "output_type": "stream",
     "text": [
      "Epoch 2/20 [Train]: 100%|██████████| 358/358 [00:13<00:00, 27.48it/s]\n",
      "Epoch 2/20 [Val]: 100%|██████████| 65/65 [00:01<00:00, 51.16it/s]\n"
     ]
    },
    {
     "name": "stdout",
     "output_type": "stream",
     "text": [
      "Epoch 2/20 | Train Loss: 0.0322 | Val Loss: 0.0743\n",
      "모델 저장: ./models\\NeuMF_ID_only.pth\n"
     ]
    },
    {
     "name": "stderr",
     "output_type": "stream",
     "text": [
      "Epoch 3/20 [Train]: 100%|██████████| 358/358 [00:09<00:00, 39.60it/s]\n",
      "Epoch 3/20 [Val]: 100%|██████████| 65/65 [00:01<00:00, 45.14it/s]\n"
     ]
    },
    {
     "name": "stdout",
     "output_type": "stream",
     "text": [
      "Epoch 3/20 | Train Loss: 0.0184 | Val Loss: 0.0816\n",
      "검증 손실이 개선되지 않음. Patience: 1/5\n"
     ]
    },
    {
     "name": "stderr",
     "output_type": "stream",
     "text": [
      "Epoch 4/20 [Train]: 100%|██████████| 358/358 [00:12<00:00, 27.56it/s]\n",
      "Epoch 4/20 [Val]: 100%|██████████| 65/65 [00:01<00:00, 52.08it/s]\n"
     ]
    },
    {
     "name": "stdout",
     "output_type": "stream",
     "text": [
      "Epoch 4/20 | Train Loss: 0.0094 | Val Loss: 0.0772\n",
      "검증 손실이 개선되지 않음. Patience: 2/5\n"
     ]
    },
    {
     "name": "stderr",
     "output_type": "stream",
     "text": [
      "Epoch 5/20 [Train]: 100%|██████████| 358/358 [00:10<00:00, 35.07it/s]\n",
      "Epoch 5/20 [Val]: 100%|██████████| 65/65 [00:01<00:00, 48.38it/s]\n"
     ]
    },
    {
     "name": "stdout",
     "output_type": "stream",
     "text": [
      "Epoch 5/20 | Train Loss: 0.0042 | Val Loss: 0.0716\n",
      "모델 저장: ./models\\NeuMF_ID_only.pth\n"
     ]
    },
    {
     "name": "stderr",
     "output_type": "stream",
     "text": [
      "Epoch 6/20 [Train]: 100%|██████████| 358/358 [00:13<00:00, 27.04it/s]\n",
      "Epoch 6/20 [Val]: 100%|██████████| 65/65 [00:01<00:00, 48.55it/s]\n"
     ]
    },
    {
     "name": "stdout",
     "output_type": "stream",
     "text": [
      "Epoch 6/20 | Train Loss: 0.0022 | Val Loss: 0.0755\n",
      "검증 손실이 개선되지 않음. Patience: 1/5\n"
     ]
    },
    {
     "name": "stderr",
     "output_type": "stream",
     "text": [
      "Epoch 7/20 [Train]: 100%|██████████| 358/358 [00:10<00:00, 34.86it/s]\n",
      "Epoch 7/20 [Val]: 100%|██████████| 65/65 [00:01<00:00, 46.35it/s]\n"
     ]
    },
    {
     "name": "stdout",
     "output_type": "stream",
     "text": [
      "Epoch 7/20 | Train Loss: 0.0015 | Val Loss: 0.0747\n",
      "검증 손실이 개선되지 않음. Patience: 2/5\n"
     ]
    },
    {
     "name": "stderr",
     "output_type": "stream",
     "text": [
      "Epoch 8/20 [Train]: 100%|██████████| 358/358 [00:13<00:00, 25.92it/s]\n",
      "Epoch 8/20 [Val]: 100%|██████████| 65/65 [00:01<00:00, 47.09it/s]\n"
     ]
    },
    {
     "name": "stdout",
     "output_type": "stream",
     "text": [
      "Epoch 8/20 | Train Loss: 0.0011 | Val Loss: 0.0741\n",
      "검증 손실이 개선되지 않음. Patience: 3/5\n"
     ]
    },
    {
     "name": "stderr",
     "output_type": "stream",
     "text": [
      "Epoch 9/20 [Train]: 100%|██████████| 358/358 [00:10<00:00, 33.16it/s]\n",
      "Epoch 9/20 [Val]: 100%|██████████| 65/65 [00:01<00:00, 48.35it/s]\n"
     ]
    },
    {
     "name": "stdout",
     "output_type": "stream",
     "text": [
      "Epoch 9/20 | Train Loss: 0.0010 | Val Loss: 0.0751\n",
      "검증 손실이 개선되지 않음. Patience: 4/5\n"
     ]
    },
    {
     "name": "stderr",
     "output_type": "stream",
     "text": [
      "Epoch 10/20 [Train]: 100%|██████████| 358/358 [00:12<00:00, 29.53it/s]\n",
      "Epoch 10/20 [Val]: 100%|██████████| 65/65 [00:01<00:00, 47.22it/s]\n"
     ]
    },
    {
     "name": "stdout",
     "output_type": "stream",
     "text": [
      "Epoch 10/20 | Train Loss: 0.0008 | Val Loss: 0.0744\n",
      "검증 손실이 개선되지 않음. Patience: 5/5\n",
      "검증 손실 5회 연속 개선 없음. 조기 종료.\n",
      "cuda\n"
     ]
    },
    {
     "name": "stderr",
     "output_type": "stream",
     "text": [
      "평가 중: 100%|██████████| 28/28 [00:00<00:00, 45.61it/s, loss=0.0426]\n"
     ]
    },
    {
     "name": "stdout",
     "output_type": "stream",
     "text": [
      "테스트 손실: 0.0638\n",
      "NDCG@10: 1.0000\n",
      "HR@10: 1.0000\n",
      "MRR: 1.0000\n",
      "\n",
      "=== NeuMF_Text_only (텍스트 임베딩만 사용) ===\n",
      "NeuMF 초기화: num_users=18129, num_items=3486\n"
     ]
    },
    {
     "name": "stderr",
     "output_type": "stream",
     "text": [
      "Epoch 1/20 [Train]: 100%|██████████| 358/358 [00:08<00:00, 41.51it/s]\n",
      "Epoch 1/20 [Val]: 100%|██████████| 65/65 [00:01<00:00, 44.80it/s]\n"
     ]
    },
    {
     "name": "stdout",
     "output_type": "stream",
     "text": [
      "Epoch 1/20 | Train Loss: 0.0707 | Val Loss: 0.0902\n",
      "모델 저장: ./models\\NeuMF_Text_only.pth\n"
     ]
    },
    {
     "name": "stderr",
     "output_type": "stream",
     "text": [
      "Epoch 2/20 [Train]: 100%|██████████| 358/358 [00:08<00:00, 42.74it/s]\n",
      "Epoch 2/20 [Val]: 100%|██████████| 65/65 [00:01<00:00, 46.88it/s]\n"
     ]
    },
    {
     "name": "stdout",
     "output_type": "stream",
     "text": [
      "Epoch 2/20 | Train Loss: 0.0477 | Val Loss: 0.0995\n",
      "검증 손실이 개선되지 않음. Patience: 1/5\n"
     ]
    },
    {
     "name": "stderr",
     "output_type": "stream",
     "text": [
      "Epoch 3/20 [Train]: 100%|██████████| 358/358 [00:08<00:00, 41.53it/s]\n",
      "Epoch 3/20 [Val]: 100%|██████████| 65/65 [00:01<00:00, 43.88it/s]\n"
     ]
    },
    {
     "name": "stdout",
     "output_type": "stream",
     "text": [
      "Epoch 3/20 | Train Loss: 0.0357 | Val Loss: 0.1077\n",
      "검증 손실이 개선되지 않음. Patience: 2/5\n"
     ]
    },
    {
     "name": "stderr",
     "output_type": "stream",
     "text": [
      "Epoch 4/20 [Train]: 100%|██████████| 358/358 [00:08<00:00, 41.32it/s]\n",
      "Epoch 4/20 [Val]: 100%|██████████| 65/65 [00:01<00:00, 47.87it/s]\n"
     ]
    },
    {
     "name": "stdout",
     "output_type": "stream",
     "text": [
      "Epoch 4/20 | Train Loss: 0.0281 | Val Loss: 0.1196\n",
      "검증 손실이 개선되지 않음. Patience: 3/5\n"
     ]
    },
    {
     "name": "stderr",
     "output_type": "stream",
     "text": [
      "Epoch 5/20 [Train]: 100%|██████████| 358/358 [00:08<00:00, 41.48it/s]\n",
      "Epoch 5/20 [Val]: 100%|██████████| 65/65 [00:01<00:00, 43.41it/s]\n"
     ]
    },
    {
     "name": "stdout",
     "output_type": "stream",
     "text": [
      "Epoch 5/20 | Train Loss: 0.0226 | Val Loss: 0.1350\n",
      "검증 손실이 개선되지 않음. Patience: 4/5\n"
     ]
    },
    {
     "name": "stderr",
     "output_type": "stream",
     "text": [
      "Epoch 6/20 [Train]: 100%|██████████| 358/358 [00:08<00:00, 40.94it/s]\n",
      "Epoch 6/20 [Val]: 100%|██████████| 65/65 [00:01<00:00, 47.36it/s]\n"
     ]
    },
    {
     "name": "stdout",
     "output_type": "stream",
     "text": [
      "Epoch 6/20 | Train Loss: 0.0170 | Val Loss: 0.1381\n",
      "검증 손실이 개선되지 않음. Patience: 5/5\n",
      "검증 손실 5회 연속 개선 없음. 조기 종료.\n",
      "cuda\n"
     ]
    },
    {
     "name": "stderr",
     "output_type": "stream",
     "text": [
      "평가 중: 100%|██████████| 28/28 [00:00<00:00, 40.40it/s, loss=0.0641]\n"
     ]
    },
    {
     "name": "stdout",
     "output_type": "stream",
     "text": [
      "테스트 손실: 0.0867\n",
      "NDCG@10: 0.9997\n",
      "HR@10: 1.0000\n",
      "MRR: 0.9996\n",
      "\n",
      "=== NeuMF_ID_Text (ID + 텍스트 임베딩) ===\n",
      "NeuMF 초기화: num_users=18129, num_items=3486\n"
     ]
    },
    {
     "name": "stderr",
     "output_type": "stream",
     "text": [
      "Epoch 1/20 [Train]: 100%|██████████| 358/358 [00:14<00:00, 24.75it/s]\n",
      "Epoch 1/20 [Val]: 100%|██████████| 65/65 [00:01<00:00, 47.47it/s]\n"
     ]
    },
    {
     "name": "stdout",
     "output_type": "stream",
     "text": [
      "Epoch 1/20 | Train Loss: 0.0689 | Val Loss: 0.0819\n",
      "모델 저장: ./models\\NeuMF_ID_Text.pth\n"
     ]
    },
    {
     "name": "stderr",
     "output_type": "stream",
     "text": [
      "Epoch 2/20 [Train]: 100%|██████████| 358/358 [00:12<00:00, 28.52it/s]\n",
      "Epoch 2/20 [Val]: 100%|██████████| 65/65 [00:01<00:00, 49.92it/s]\n"
     ]
    },
    {
     "name": "stdout",
     "output_type": "stream",
     "text": [
      "Epoch 2/20 | Train Loss: 0.0351 | Val Loss: 0.0988\n",
      "검증 손실이 개선되지 않음. Patience: 1/5\n"
     ]
    },
    {
     "name": "stderr",
     "output_type": "stream",
     "text": [
      "Epoch 3/20 [Train]: 100%|██████████| 358/358 [00:09<00:00, 39.22it/s]\n",
      "Epoch 3/20 [Val]: 100%|██████████| 65/65 [00:01<00:00, 45.15it/s]\n"
     ]
    },
    {
     "name": "stdout",
     "output_type": "stream",
     "text": [
      "Epoch 3/20 | Train Loss: 0.0171 | Val Loss: 0.1057\n",
      "검증 손실이 개선되지 않음. Patience: 2/5\n"
     ]
    },
    {
     "name": "stderr",
     "output_type": "stream",
     "text": [
      "Epoch 4/20 [Train]: 100%|██████████| 358/358 [00:12<00:00, 29.54it/s]\n",
      "Epoch 4/20 [Val]: 100%|██████████| 65/65 [00:01<00:00, 49.81it/s]\n"
     ]
    },
    {
     "name": "stdout",
     "output_type": "stream",
     "text": [
      "Epoch 4/20 | Train Loss: 0.0099 | Val Loss: 0.1204\n",
      "검증 손실이 개선되지 않음. Patience: 3/5\n"
     ]
    },
    {
     "name": "stderr",
     "output_type": "stream",
     "text": [
      "Epoch 5/20 [Train]: 100%|██████████| 358/358 [00:09<00:00, 38.89it/s]\n",
      "Epoch 5/20 [Val]: 100%|██████████| 65/65 [00:01<00:00, 47.28it/s]\n"
     ]
    },
    {
     "name": "stdout",
     "output_type": "stream",
     "text": [
      "Epoch 5/20 | Train Loss: 0.0067 | Val Loss: 0.1178\n",
      "검증 손실이 개선되지 않음. Patience: 4/5\n"
     ]
    },
    {
     "name": "stderr",
     "output_type": "stream",
     "text": [
      "Epoch 6/20 [Train]: 100%|██████████| 358/358 [00:14<00:00, 24.99it/s]\n",
      "Epoch 6/20 [Val]: 100%|██████████| 65/65 [00:01<00:00, 46.28it/s]\n"
     ]
    },
    {
     "name": "stdout",
     "output_type": "stream",
     "text": [
      "Epoch 6/20 | Train Loss: 0.0046 | Val Loss: 0.1261\n",
      "검증 손실이 개선되지 않음. Patience: 5/5\n",
      "검증 손실 5회 연속 개선 없음. 조기 종료.\n",
      "cuda\n"
     ]
    },
    {
     "name": "stderr",
     "output_type": "stream",
     "text": [
      "평가 중: 100%|██████████| 28/28 [00:00<00:00, 41.70it/s, loss=0.0646]\n"
     ]
    },
    {
     "name": "stdout",
     "output_type": "stream",
     "text": [
      "테스트 손실: 0.0738\n",
      "NDCG@10: 1.0000\n",
      "HR@10: 1.0000\n",
      "MRR: 1.0000\n",
      "\n",
      "=== NeuMF_ID_Text_Trust (ID + 텍스트 임베딩 + 신뢰도 가중치) ===\n",
      "NeuMF 초기화: num_users=18129, num_items=3486\n"
     ]
    },
    {
     "name": "stderr",
     "output_type": "stream",
     "text": [
      "Epoch 1/20 [Train]: 100%|██████████| 358/358 [00:13<00:00, 26.99it/s]\n",
      "Epoch 1/20 [Val]: 100%|██████████| 65/65 [00:01<00:00, 51.37it/s]\n"
     ]
    },
    {
     "name": "stdout",
     "output_type": "stream",
     "text": [
      "Epoch 1/20 | Train Loss: 0.0552 | Val Loss: 0.0753\n",
      "모델 저장: ./models\\NeuMF_ID_Text_Trust.pth\n"
     ]
    },
    {
     "name": "stderr",
     "output_type": "stream",
     "text": [
      "Epoch 2/20 [Train]: 100%|██████████| 358/358 [00:09<00:00, 39.60it/s]\n",
      "Epoch 2/20 [Val]: 100%|██████████| 65/65 [00:01<00:00, 48.10it/s]\n"
     ]
    },
    {
     "name": "stdout",
     "output_type": "stream",
     "text": [
      "Epoch 2/20 | Train Loss: 0.0298 | Val Loss: 0.0897\n",
      "검증 손실이 개선되지 않음. Patience: 1/5\n"
     ]
    },
    {
     "name": "stderr",
     "output_type": "stream",
     "text": [
      "Epoch 3/20 [Train]: 100%|██████████| 358/358 [00:11<00:00, 31.83it/s]\n",
      "Epoch 3/20 [Val]: 100%|██████████| 65/65 [00:01<00:00, 46.52it/s]\n"
     ]
    },
    {
     "name": "stdout",
     "output_type": "stream",
     "text": [
      "Epoch 3/20 | Train Loss: 0.0151 | Val Loss: 0.0936\n",
      "검증 손실이 개선되지 않음. Patience: 2/5\n"
     ]
    },
    {
     "name": "stderr",
     "output_type": "stream",
     "text": [
      "Epoch 4/20 [Train]: 100%|██████████| 358/358 [00:14<00:00, 24.88it/s]\n",
      "Epoch 4/20 [Val]: 100%|██████████| 65/65 [00:01<00:00, 47.15it/s]\n"
     ]
    },
    {
     "name": "stdout",
     "output_type": "stream",
     "text": [
      "Epoch 4/20 | Train Loss: 0.0091 | Val Loss: 0.1009\n",
      "검증 손실이 개선되지 않음. Patience: 3/5\n"
     ]
    },
    {
     "name": "stderr",
     "output_type": "stream",
     "text": [
      "Epoch 5/20 [Train]: 100%|██████████| 358/358 [00:10<00:00, 34.59it/s]\n",
      "Epoch 5/20 [Val]: 100%|██████████| 65/65 [00:01<00:00, 47.77it/s]\n"
     ]
    },
    {
     "name": "stdout",
     "output_type": "stream",
     "text": [
      "Epoch 5/20 | Train Loss: 0.0064 | Val Loss: 0.1016\n",
      "검증 손실이 개선되지 않음. Patience: 4/5\n"
     ]
    },
    {
     "name": "stderr",
     "output_type": "stream",
     "text": [
      "Epoch 6/20 [Train]: 100%|██████████| 358/358 [00:11<00:00, 31.54it/s]\n",
      "Epoch 6/20 [Val]: 100%|██████████| 65/65 [00:01<00:00, 49.11it/s]\n"
     ]
    },
    {
     "name": "stdout",
     "output_type": "stream",
     "text": [
      "Epoch 6/20 | Train Loss: 0.0045 | Val Loss: 0.1016\n",
      "검증 손실이 개선되지 않음. Patience: 5/5\n",
      "검증 손실 5회 연속 개선 없음. 조기 종료.\n",
      "cuda\n"
     ]
    },
    {
     "name": "stderr",
     "output_type": "stream",
     "text": [
      "평가 중: 100%|██████████| 28/28 [00:00<00:00, 44.94it/s, loss=0.048] \n",
      "C:\\Users\\PYJ\\AppData\\Local\\Temp\\ipykernel_1916\\397792941.py:142: UserWarning: set_ticklabels() should only be used with a fixed number of ticks, i.e. after set_ticks() or using a FixedLocator.\n",
      "  axes[0].set_xticklabels(variant_names, rotation=45, ha='right')\n",
      "C:\\Users\\PYJ\\AppData\\Local\\Temp\\ipykernel_1916\\397792941.py:151: UserWarning: set_ticklabels() should only be used with a fixed number of ticks, i.e. after set_ticks() or using a FixedLocator.\n",
      "  axes[i + 1].set_xticklabels(variant_names, rotation=45, ha='right')\n",
      "C:\\Users\\PYJ\\AppData\\Local\\Temp\\ipykernel_1916\\397792941.py:151: UserWarning: set_ticklabels() should only be used with a fixed number of ticks, i.e. after set_ticks() or using a FixedLocator.\n",
      "  axes[i + 1].set_xticklabels(variant_names, rotation=45, ha='right')\n"
     ]
    },
    {
     "name": "stdout",
     "output_type": "stream",
     "text": [
      "테스트 손실: 0.0689\n",
      "NDCG@10: 0.9997\n",
      "HR@10: 1.0000\n",
      "MRR: 0.9996\n",
      "\n",
      "=== 모델 변형 성능 비교 ===\n",
      "모델                   설명                             테스트 손실          NDCG@K     HR@K       MRR       \n",
      "-----------------------------------------------------------------------------------------------\n",
      "NeuMF_ID_only        ID 임베딩만 사용                     0.0638          1.0000     1.0000     1.0000    \n",
      "NeuMF_Text_only      텍스트 임베딩만 사용                    0.0867          0.9997     1.0000     0.9996    \n",
      "NeuMF_ID_Text        ID + 텍스트 임베딩                   0.0738          1.0000     1.0000     1.0000    \n",
      "NeuMF_ID_Text_Trust  ID + 텍스트 임베딩 + 신뢰도 가중치         0.0689          0.9997     1.0000     0.9996    \n"
     ]
    },
    {
     "name": "stderr",
     "output_type": "stream",
     "text": [
      "C:\\Users\\PYJ\\AppData\\Local\\Temp\\ipykernel_1916\\397792941.py:151: UserWarning: set_ticklabels() should only be used with a fixed number of ticks, i.e. after set_ticks() or using a FixedLocator.\n",
      "  axes[i + 1].set_xticklabels(variant_names, rotation=45, ha='right')\n",
      "C:\\Users\\PYJ\\AppData\\Local\\Temp\\ipykernel_1916\\397792941.py:154: UserWarning: Glyph 47784 (\\N{HANGUL SYLLABLE MO}) missing from font(s) Arial.\n",
      "  plt.tight_layout()\n",
      "C:\\Users\\PYJ\\AppData\\Local\\Temp\\ipykernel_1916\\397792941.py:154: UserWarning: Glyph 45944 (\\N{HANGUL SYLLABLE DEL}) missing from font(s) Arial.\n",
      "  plt.tight_layout()\n",
      "C:\\Users\\PYJ\\AppData\\Local\\Temp\\ipykernel_1916\\397792941.py:154: UserWarning: Glyph 48320 (\\N{HANGUL SYLLABLE BYEON}) missing from font(s) Arial.\n",
      "  plt.tight_layout()\n",
      "C:\\Users\\PYJ\\AppData\\Local\\Temp\\ipykernel_1916\\397792941.py:154: UserWarning: Glyph 54805 (\\N{HANGUL SYLLABLE HYEONG}) missing from font(s) Arial.\n",
      "  plt.tight_layout()\n",
      "C:\\Users\\PYJ\\AppData\\Local\\Temp\\ipykernel_1916\\397792941.py:154: UserWarning: Glyph 49552 (\\N{HANGUL SYLLABLE SON}) missing from font(s) Arial.\n",
      "  plt.tight_layout()\n",
      "C:\\Users\\PYJ\\AppData\\Local\\Temp\\ipykernel_1916\\397792941.py:154: UserWarning: Glyph 49892 (\\N{HANGUL SYLLABLE SIL}) missing from font(s) Arial.\n",
      "  plt.tight_layout()\n",
      "C:\\Users\\PYJ\\AppData\\Local\\Temp\\ipykernel_1916\\397792941.py:154: UserWarning: Glyph 53580 (\\N{HANGUL SYLLABLE TE}) missing from font(s) Arial.\n",
      "  plt.tight_layout()\n",
      "C:\\Users\\PYJ\\AppData\\Local\\Temp\\ipykernel_1916\\397792941.py:154: UserWarning: Glyph 49828 (\\N{HANGUL SYLLABLE SEU}) missing from font(s) Arial.\n",
      "  plt.tight_layout()\n",
      "C:\\Users\\PYJ\\AppData\\Local\\Temp\\ipykernel_1916\\397792941.py:154: UserWarning: Glyph 53944 (\\N{HANGUL SYLLABLE TEU}) missing from font(s) Arial.\n",
      "  plt.tight_layout()\n",
      "C:\\Users\\PYJ\\AppData\\Local\\Temp\\ipykernel_1916\\397792941.py:154: UserWarning: Glyph 44050 (\\N{HANGUL SYLLABLE GABS}) missing from font(s) Arial.\n",
      "  plt.tight_layout()\n",
      "c:\\Users\\PYJ\\anaconda3\\envs\\lab\\lib\\site-packages\\IPython\\core\\pylabtools.py:170: UserWarning: Glyph 47784 (\\N{HANGUL SYLLABLE MO}) missing from font(s) Arial.\n",
      "  fig.canvas.print_figure(bytes_io, **kw)\n",
      "c:\\Users\\PYJ\\anaconda3\\envs\\lab\\lib\\site-packages\\IPython\\core\\pylabtools.py:170: UserWarning: Glyph 45944 (\\N{HANGUL SYLLABLE DEL}) missing from font(s) Arial.\n",
      "  fig.canvas.print_figure(bytes_io, **kw)\n",
      "c:\\Users\\PYJ\\anaconda3\\envs\\lab\\lib\\site-packages\\IPython\\core\\pylabtools.py:170: UserWarning: Glyph 48320 (\\N{HANGUL SYLLABLE BYEON}) missing from font(s) Arial.\n",
      "  fig.canvas.print_figure(bytes_io, **kw)\n",
      "c:\\Users\\PYJ\\anaconda3\\envs\\lab\\lib\\site-packages\\IPython\\core\\pylabtools.py:170: UserWarning: Glyph 54805 (\\N{HANGUL SYLLABLE HYEONG}) missing from font(s) Arial.\n",
      "  fig.canvas.print_figure(bytes_io, **kw)\n",
      "c:\\Users\\PYJ\\anaconda3\\envs\\lab\\lib\\site-packages\\IPython\\core\\pylabtools.py:170: UserWarning: Glyph 49552 (\\N{HANGUL SYLLABLE SON}) missing from font(s) Arial.\n",
      "  fig.canvas.print_figure(bytes_io, **kw)\n",
      "c:\\Users\\PYJ\\anaconda3\\envs\\lab\\lib\\site-packages\\IPython\\core\\pylabtools.py:170: UserWarning: Glyph 49892 (\\N{HANGUL SYLLABLE SIL}) missing from font(s) Arial.\n",
      "  fig.canvas.print_figure(bytes_io, **kw)\n",
      "c:\\Users\\PYJ\\anaconda3\\envs\\lab\\lib\\site-packages\\IPython\\core\\pylabtools.py:170: UserWarning: Glyph 53580 (\\N{HANGUL SYLLABLE TE}) missing from font(s) Arial.\n",
      "  fig.canvas.print_figure(bytes_io, **kw)\n",
      "c:\\Users\\PYJ\\anaconda3\\envs\\lab\\lib\\site-packages\\IPython\\core\\pylabtools.py:170: UserWarning: Glyph 49828 (\\N{HANGUL SYLLABLE SEU}) missing from font(s) Arial.\n",
      "  fig.canvas.print_figure(bytes_io, **kw)\n",
      "c:\\Users\\PYJ\\anaconda3\\envs\\lab\\lib\\site-packages\\IPython\\core\\pylabtools.py:170: UserWarning: Glyph 53944 (\\N{HANGUL SYLLABLE TEU}) missing from font(s) Arial.\n",
      "  fig.canvas.print_figure(bytes_io, **kw)\n",
      "c:\\Users\\PYJ\\anaconda3\\envs\\lab\\lib\\site-packages\\IPython\\core\\pylabtools.py:170: UserWarning: Glyph 44050 (\\N{HANGUL SYLLABLE GABS}) missing from font(s) Arial.\n",
      "  fig.canvas.print_figure(bytes_io, **kw)\n"
     ]
    },
    {
     "data": {
      "image/png": "[encoded data removed]",
      "text/plain": [
       "<Figure size 2000x600 with 4 Axes>"
      ]
     },
     "metadata": {},
     "output_type": "display_data"
    },
    {
     "name": "stdout",
     "output_type": "stream",
     "text": [
      "\n",
      "=== 모델 변형 설명 ===\n",
      "NeuMF_ID_only: ID 임베딩만 사용\n",
      "NeuMF_Text_only: 텍스트 임베딩만 사용\n",
      "NeuMF_ID_Text: ID + 텍스트 임베딩\n",
      "NeuMF_ID_Text_Trust: ID + 텍스트 임베딩 + 신뢰도 가중치\n"
     ]
    }
   ],
   "source": [
    "## 7. 텍스트 임베딩 및 신뢰도 가중치 효과 분석\n",
    "\n",
    "def compare_model_variants(train_loader, val_loader, test_loader, user_embed_dim, item_embed_dim, \n",
    "                           num_users, num_items, latent_dim=64):\n",
    "    \"\"\"\n",
    "    NeuMF 모델 변형 비교 (텍스트 임베딩 및 신뢰도 가중치 효과)\n",
    "    \n",
    "    Args:\n",
    "        train_loader (DataLoader): 훈련 데이터 로더\n",
    "        val_loader (DataLoader): 검증 데이터 로더\n",
    "        test_loader (DataLoader): 테스트 데이터 로더\n",
    "        user_embed_dim (int): 사용자 임베딩 차원\n",
    "        item_embed_dim (int): 아이템 임베딩 차원\n",
    "        num_users (int): 사용자 수\n",
    "        num_items (int): 아이템 수\n",
    "        latent_dim (int): 잠재 요인 차원\n",
    "        \n",
    "    Returns:\n",
    "        dict: 모델 변형별 결과\n",
    "    \"\"\"\n",
    "    # 모델 파라미터\n",
    "    learning_rate = 0.001\n",
    "    num_epochs = 20\n",
    "    patience = 5\n",
    "    top_k = 10\n",
    "    \n",
    "    # 손실 함수\n",
    "    criterion = nn.MSELoss(reduction='none')  # 개별 손실 계산을 위해 reduction='none'\n",
    "    \n",
    "    variants = {\n",
    "        'NeuMF_ID_only': {\n",
    "            'use_id_embed': True,\n",
    "            'use_text_embed': False,\n",
    "            'use_trust_weight': False,\n",
    "            'description': 'ID 임베딩만 사용'\n",
    "        },\n",
    "        'NeuMF_Text_only': {\n",
    "            'use_id_embed': False,\n",
    "            'use_text_embed': True,\n",
    "            'use_trust_weight': False,\n",
    "            'description': '텍스트 임베딩만 사용'\n",
    "        },\n",
    "        'NeuMF_ID_Text': {\n",
    "            'use_id_embed': True,\n",
    "            'use_text_embed': True,\n",
    "            'use_trust_weight': False,\n",
    "            'description': 'ID + 텍스트 임베딩'\n",
    "        },\n",
    "        'NeuMF_ID_Text_Trust': {\n",
    "            'use_id_embed': True,\n",
    "            'use_text_embed': True,\n",
    "            'use_trust_weight': True,\n",
    "            'description': 'ID + 텍스트 임베딩 + 신뢰도 가중치'\n",
    "        }\n",
    "    }\n",
    "    \n",
    "    results = {}\n",
    "    \n",
    "    for variant_name, config in variants.items():\n",
    "        print(f\"\\n=== {variant_name} ({config['description']}) ===\")\n",
    "        \n",
    "        # 모델 초기화\n",
    "        model = NeuMF(\n",
    "            num_users, num_items, user_embed_dim, item_embed_dim,\n",
    "            latent_dim_gmf=latent_dim, latent_dim_mlp=latent_dim, layers=[128, 64, 32],\n",
    "            use_text_embed=config['use_text_embed'], use_id_embed=config['use_id_embed']\n",
    "        )\n",
    "        \n",
    "        optimizer = optim.Adam(model.parameters(), lr=learning_rate)\n",
    "        scheduler = optim.lr_scheduler.ReduceLROnPlateau(optimizer, 'min', patience=3, factor=0.5)\n",
    "        \n",
    "        # 모델 학습\n",
    "        model, train_losses, val_losses = train_model(\n",
    "            model, train_loader, val_loader, criterion, optimizer,\n",
    "            scheduler=scheduler, num_epochs=num_epochs, patience=patience,\n",
    "            use_trust_weight=config['use_trust_weight'],\n",
    "            model_save_path=os.path.join(MODELS_DIR, f\"{variant_name}.pth\")\n",
    "        )\n",
    "        \n",
    "        # 모델 평가\n",
    "        test_loss, metrics = evaluate_model(\n",
    "            model, test_loader, criterion, \n",
    "            use_trust_weight=config['use_trust_weight'], top_k=top_k\n",
    "        )\n",
    "        \n",
    "        # 결과 저장\n",
    "        results[variant_name] = {\n",
    "            'model': model,\n",
    "            'train_losses': train_losses,\n",
    "            'val_losses': val_losses,\n",
    "            'test_loss': test_loss,\n",
    "            'metrics': metrics,\n",
    "            'config': config\n",
    "        }\n",
    "    \n",
    "    # 결과 출력\n",
    "    print(\"\\n=== 모델 변형 성능 비교 ===\")\n",
    "    print(f\"{'모델':<20} {'설명':<30} {'테스트 손실':<15} {'NDCG@K':<10} {'HR@K':<10} {'MRR':<10}\")\n",
    "    print(\"-\" * 95)\n",
    "    \n",
    "    for variant_name, result in results.items():\n",
    "        print(f\"{variant_name:<20} {result['config']['description']:<30} {result['test_loss']:<15.4f} {result['metrics']['NDCG@K']:<10.4f} {result['metrics']['HR@K']:<10.4f} {result['metrics']['MRR']:<10.4f}\")\n",
    "    \n",
    "    return results\n",
    "\n",
    "# 모델 변형 비교\n",
    "variant_results = compare_model_variants(\n",
    "    train_loader, val_loader, test_loader,\n",
    "    USER_EMBED_DIM, ITEM_EMBED_DIM,\n",
    "    NUM_USERS, NUM_ITEMS, latent_dim=64\n",
    ")\n",
    "\n",
    "# 결과 시각화\n",
    "def plot_variant_results(variant_results, metrics=['NDCG@K', 'HR@K', 'MRR']):\n",
    "    \"\"\"\n",
    "    모델 변형 결과 시각화\n",
    "    \n",
    "    Args:\n",
    "        variant_results (dict): 모델 변형별 결과\n",
    "        metrics (list): 시각화할 메트릭 리스트\n",
    "    \"\"\"\n",
    "    # 변형 이름 및 설명\n",
    "    variant_names = list(variant_results.keys())\n",
    "    variant_descs = [result['config']['description'] for result in variant_results.values()]\n",
    "    \n",
    "    # 테스트 손실\n",
    "    test_losses = [result['test_loss'] for result in variant_results.values()]\n",
    "    \n",
    "    # 메트릭 추출\n",
    "    metric_values = {}\n",
    "    for metric in metrics:\n",
    "        metric_values[metric] = [result['metrics'][metric] for result in variant_results.values()]\n",
    "    \n",
    "    # 시각화\n",
    "    fig, axes = plt.subplots(1, len(metrics) + 1, figsize=(20, 6))\n",
    "    \n",
    "    # 테스트 손실 그래프\n",
    "    axes[0].bar(variant_names, test_losses)\n",
    "    axes[0].set_title('테스트 손실')\n",
    "    axes[0].set_xlabel('모델 변형')\n",
    "    axes[0].set_ylabel('MSE 손실')\n",
    "    axes[0].set_xticklabels(variant_names, rotation=45, ha='right')\n",
    "    axes[0].grid(True, alpha=0.3)\n",
    "    \n",
    "    # 메트릭 그래프\n",
    "    for i, metric in enumerate(metrics):\n",
    "        axes[i + 1].bar(variant_names, metric_values[metric])\n",
    "        axes[i + 1].set_title(metric)\n",
    "        axes[i + 1].set_xlabel('모델 변형')\n",
    "        axes[i + 1].set_ylabel('값')\n",
    "        axes[i + 1].set_xticklabels(variant_names, rotation=45, ha='right')\n",
    "        axes[i + 1].grid(True, alpha=0.3)\n",
    "    \n",
    "    plt.tight_layout()\n",
    "    plt.show()\n",
    "    \n",
    "    # 상세 설명 출력\n",
    "    print(\"\\n=== 모델 변형 설명 ===\")\n",
    "    for name, desc in zip(variant_names, variant_descs):\n",
    "        print(f\"{name}: {desc}\")\n",
    "\n",
    "# 결과 시각화\n",
    "plot_variant_results(variant_results)\n"
   ]
  },
  {
   "cell_type": "code",
   "execution_count": null,
   "id": "d14439c9",
   "metadata": {},
   "outputs": [
    {
     "name": "stderr",
     "output_type": "stream",
     "text": [
      "신뢰도 그룹별 성능 분석: 100%|██████████| 28/28 [00:00<00:00, 35.78it/s]\n",
      "C:\\Users\\PYJ\\AppData\\Local\\Temp\\ipykernel_1916\\2935001740.py:111: UserWarning: Glyph 49888 (\\N{HANGUL SYLLABLE SIN}) missing from font(s) Arial.\n",
      "  plt.tight_layout()\n",
      "C:\\Users\\PYJ\\AppData\\Local\\Temp\\ipykernel_1916\\2935001740.py:111: UserWarning: Glyph 47280 (\\N{HANGUL SYLLABLE ROE}) missing from font(s) Arial.\n",
      "  plt.tight_layout()\n",
      "C:\\Users\\PYJ\\AppData\\Local\\Temp\\ipykernel_1916\\2935001740.py:111: UserWarning: Glyph 46020 (\\N{HANGUL SYLLABLE DO}) missing from font(s) Arial.\n",
      "  plt.tight_layout()\n",
      "C:\\Users\\PYJ\\AppData\\Local\\Temp\\ipykernel_1916\\2935001740.py:111: UserWarning: Glyph 44536 (\\N{HANGUL SYLLABLE GEU}) missing from font(s) Arial.\n",
      "  plt.tight_layout()\n",
      "C:\\Users\\PYJ\\AppData\\Local\\Temp\\ipykernel_1916\\2935001740.py:111: UserWarning: Glyph 47353 (\\N{HANGUL SYLLABLE RUB}) missing from font(s) Arial.\n",
      "  plt.tight_layout()\n",
      "C:\\Users\\PYJ\\AppData\\Local\\Temp\\ipykernel_1916\\2935001740.py:111: UserWarning: Glyph 54217 (\\N{HANGUL SYLLABLE PYEONG}) missing from font(s) Arial.\n",
      "  plt.tight_layout()\n",
      "C:\\Users\\PYJ\\AppData\\Local\\Temp\\ipykernel_1916\\2935001740.py:111: UserWarning: Glyph 44512 (\\N{HANGUL SYLLABLE GYUN}) missing from font(s) Arial.\n",
      "  plt.tight_layout()\n",
      "C:\\Users\\PYJ\\AppData\\Local\\Temp\\ipykernel_1916\\2935001740.py:111: UserWarning: Glyph 50724 (\\N{HANGUL SYLLABLE O}) missing from font(s) Arial.\n",
      "  plt.tight_layout()\n",
      "C:\\Users\\PYJ\\AppData\\Local\\Temp\\ipykernel_1916\\2935001740.py:111: UserWarning: Glyph 52264 (\\N{HANGUL SYLLABLE CA}) missing from font(s) Arial.\n",
      "  plt.tight_layout()\n",
      "C:\\Users\\PYJ\\AppData\\Local\\Temp\\ipykernel_1916\\2935001740.py:111: UserWarning: Glyph 48324 (\\N{HANGUL SYLLABLE BYEOL}) missing from font(s) Arial.\n",
      "  plt.tight_layout()\n",
      "C:\\Users\\PYJ\\AppData\\Local\\Temp\\ipykernel_1916\\2935001740.py:111: UserWarning: Glyph 44050 (\\N{HANGUL SYLLABLE GABS}) missing from font(s) Arial.\n",
      "  plt.tight_layout()\n",
      "C:\\Users\\PYJ\\AppData\\Local\\Temp\\ipykernel_1916\\2935001740.py:111: UserWarning: Glyph 53440 (\\N{HANGUL SYLLABLE TA}) missing from font(s) Arial.\n",
      "  plt.tight_layout()\n",
      "C:\\Users\\PYJ\\AppData\\Local\\Temp\\ipykernel_1916\\2935001740.py:111: UserWarning: Glyph 44191 (\\N{HANGUL SYLLABLE GES}) missing from font(s) Arial.\n",
      "  plt.tight_layout()\n",
      "C:\\Users\\PYJ\\AppData\\Local\\Temp\\ipykernel_1916\\2935001740.py:111: UserWarning: Glyph 44284 (\\N{HANGUL SYLLABLE GWA}) missing from font(s) Arial.\n",
      "  plt.tight_layout()\n",
      "C:\\Users\\PYJ\\AppData\\Local\\Temp\\ipykernel_1916\\2935001740.py:111: UserWarning: Glyph 50696 (\\N{HANGUL SYLLABLE YE}) missing from font(s) Arial.\n",
      "  plt.tight_layout()\n",
      "C:\\Users\\PYJ\\AppData\\Local\\Temp\\ipykernel_1916\\2935001740.py:111: UserWarning: Glyph 52769 (\\N{HANGUL SYLLABLE CEUG}) missing from font(s) Arial.\n",
      "  plt.tight_layout()\n",
      "C:\\Users\\PYJ\\AppData\\Local\\Temp\\ipykernel_1916\\2935001740.py:111: UserWarning: Glyph 45936 (\\N{HANGUL SYLLABLE DE}) missing from font(s) Arial.\n",
      "  plt.tight_layout()\n",
      "C:\\Users\\PYJ\\AppData\\Local\\Temp\\ipykernel_1916\\2935001740.py:111: UserWarning: Glyph 51060 (\\N{HANGUL SYLLABLE I}) missing from font(s) Arial.\n",
      "  plt.tight_layout()\n",
      "C:\\Users\\PYJ\\AppData\\Local\\Temp\\ipykernel_1916\\2935001740.py:111: UserWarning: Glyph 53552 (\\N{HANGUL SYLLABLE TEO}) missing from font(s) Arial.\n",
      "  plt.tight_layout()\n",
      "C:\\Users\\PYJ\\AppData\\Local\\Temp\\ipykernel_1916\\2935001740.py:111: UserWarning: Glyph 49688 (\\N{HANGUL SYLLABLE SU}) missing from font(s) Arial.\n",
      "  plt.tight_layout()\n"
     ]
    },
    {
     "name": "stdout",
     "output_type": "stream",
     "text": [
      "\n",
      "=== 신뢰도 그룹별 성능 ===\n",
      "     group  mean_error  std_error  mean_target  mean_prediction  count\n",
      "0       G1    0.258580   0.148518     0.683333         0.537838     12\n",
      "1       G2    0.217158   0.170434     0.685714         0.650185     14\n",
      "2       G3    0.272327   0.187473     0.831579         0.589823     19\n",
      "3       G4    0.223656   0.148561     0.733333         0.558288     18\n",
      "4  Unknown    0.206078   0.165247     0.768190         0.682307   1685\n"
     ]
    },
    {
     "name": "stderr",
     "output_type": "stream",
     "text": [
      "c:\\Users\\PYJ\\anaconda3\\envs\\lab\\lib\\site-packages\\IPython\\core\\pylabtools.py:170: UserWarning: Glyph 49888 (\\N{HANGUL SYLLABLE SIN}) missing from font(s) Arial.\n",
      "  fig.canvas.print_figure(bytes_io, **kw)\n",
      "c:\\Users\\PYJ\\anaconda3\\envs\\lab\\lib\\site-packages\\IPython\\core\\pylabtools.py:170: UserWarning: Glyph 47280 (\\N{HANGUL SYLLABLE ROE}) missing from font(s) Arial.\n",
      "  fig.canvas.print_figure(bytes_io, **kw)\n",
      "c:\\Users\\PYJ\\anaconda3\\envs\\lab\\lib\\site-packages\\IPython\\core\\pylabtools.py:170: UserWarning: Glyph 46020 (\\N{HANGUL SYLLABLE DO}) missing from font(s) Arial.\n",
      "  fig.canvas.print_figure(bytes_io, **kw)\n",
      "c:\\Users\\PYJ\\anaconda3\\envs\\lab\\lib\\site-packages\\IPython\\core\\pylabtools.py:170: UserWarning: Glyph 44536 (\\N{HANGUL SYLLABLE GEU}) missing from font(s) Arial.\n",
      "  fig.canvas.print_figure(bytes_io, **kw)\n",
      "c:\\Users\\PYJ\\anaconda3\\envs\\lab\\lib\\site-packages\\IPython\\core\\pylabtools.py:170: UserWarning: Glyph 47353 (\\N{HANGUL SYLLABLE RUB}) missing from font(s) Arial.\n",
      "  fig.canvas.print_figure(bytes_io, **kw)\n",
      "c:\\Users\\PYJ\\anaconda3\\envs\\lab\\lib\\site-packages\\IPython\\core\\pylabtools.py:170: UserWarning: Glyph 54217 (\\N{HANGUL SYLLABLE PYEONG}) missing from font(s) Arial.\n",
      "  fig.canvas.print_figure(bytes_io, **kw)\n",
      "c:\\Users\\PYJ\\anaconda3\\envs\\lab\\lib\\site-packages\\IPython\\core\\pylabtools.py:170: UserWarning: Glyph 44512 (\\N{HANGUL SYLLABLE GYUN}) missing from font(s) Arial.\n",
      "  fig.canvas.print_figure(bytes_io, **kw)\n",
      "c:\\Users\\PYJ\\anaconda3\\envs\\lab\\lib\\site-packages\\IPython\\core\\pylabtools.py:170: UserWarning: Glyph 50724 (\\N{HANGUL SYLLABLE O}) missing from font(s) Arial.\n",
      "  fig.canvas.print_figure(bytes_io, **kw)\n",
      "c:\\Users\\PYJ\\anaconda3\\envs\\lab\\lib\\site-packages\\IPython\\core\\pylabtools.py:170: UserWarning: Glyph 52264 (\\N{HANGUL SYLLABLE CA}) missing from font(s) Arial.\n",
      "  fig.canvas.print_figure(bytes_io, **kw)\n",
      "c:\\Users\\PYJ\\anaconda3\\envs\\lab\\lib\\site-packages\\IPython\\core\\pylabtools.py:170: UserWarning: Glyph 48324 (\\N{HANGUL SYLLABLE BYEOL}) missing from font(s) Arial.\n",
      "  fig.canvas.print_figure(bytes_io, **kw)\n",
      "c:\\Users\\PYJ\\anaconda3\\envs\\lab\\lib\\site-packages\\IPython\\core\\pylabtools.py:170: UserWarning: Glyph 44050 (\\N{HANGUL SYLLABLE GABS}) missing from font(s) Arial.\n",
      "  fig.canvas.print_figure(bytes_io, **kw)\n",
      "c:\\Users\\PYJ\\anaconda3\\envs\\lab\\lib\\site-packages\\IPython\\core\\pylabtools.py:170: UserWarning: Glyph 53440 (\\N{HANGUL SYLLABLE TA}) missing from font(s) Arial.\n",
      "  fig.canvas.print_figure(bytes_io, **kw)\n",
      "c:\\Users\\PYJ\\anaconda3\\envs\\lab\\lib\\site-packages\\IPython\\core\\pylabtools.py:170: UserWarning: Glyph 44191 (\\N{HANGUL SYLLABLE GES}) missing from font(s) Arial.\n",
      "  fig.canvas.print_figure(bytes_io, **kw)\n",
      "c:\\Users\\PYJ\\anaconda3\\envs\\lab\\lib\\site-packages\\IPython\\core\\pylabtools.py:170: UserWarning: Glyph 44284 (\\N{HANGUL SYLLABLE GWA}) missing from font(s) Arial.\n",
      "  fig.canvas.print_figure(bytes_io, **kw)\n",
      "c:\\Users\\PYJ\\anaconda3\\envs\\lab\\lib\\site-packages\\IPython\\core\\pylabtools.py:170: UserWarning: Glyph 50696 (\\N{HANGUL SYLLABLE YE}) missing from font(s) Arial.\n",
      "  fig.canvas.print_figure(bytes_io, **kw)\n",
      "c:\\Users\\PYJ\\anaconda3\\envs\\lab\\lib\\site-packages\\IPython\\core\\pylabtools.py:170: UserWarning: Glyph 52769 (\\N{HANGUL SYLLABLE CEUG}) missing from font(s) Arial.\n",
      "  fig.canvas.print_figure(bytes_io, **kw)\n",
      "c:\\Users\\PYJ\\anaconda3\\envs\\lab\\lib\\site-packages\\IPython\\core\\pylabtools.py:170: UserWarning: Glyph 45936 (\\N{HANGUL SYLLABLE DE}) missing from font(s) Arial.\n",
      "  fig.canvas.print_figure(bytes_io, **kw)\n",
      "c:\\Users\\PYJ\\anaconda3\\envs\\lab\\lib\\site-packages\\IPython\\core\\pylabtools.py:170: UserWarning: Glyph 51060 (\\N{HANGUL SYLLABLE I}) missing from font(s) Arial.\n",
      "  fig.canvas.print_figure(bytes_io, **kw)\n",
      "c:\\Users\\PYJ\\anaconda3\\envs\\lab\\lib\\site-packages\\IPython\\core\\pylabtools.py:170: UserWarning: Glyph 53552 (\\N{HANGUL SYLLABLE TEO}) missing from font(s) Arial.\n",
      "  fig.canvas.print_figure(bytes_io, **kw)\n",
      "c:\\Users\\PYJ\\anaconda3\\envs\\lab\\lib\\site-packages\\IPython\\core\\pylabtools.py:170: UserWarning: Glyph 49688 (\\N{HANGUL SYLLABLE SU}) missing from font(s) Arial.\n",
      "  fig.canvas.print_figure(bytes_io, **kw)\n"
     ]
    },
    {
     "data": {
      "image/png": "[encoded data removed]",
      "text/plain": [
       "<Figure size 1500x500 with 3 Axes>"
      ]
     },
     "metadata": {},
     "output_type": "display_data"
    }
   ],
   "source": [
    "## 8. 신뢰도 그룹별 성능 분석\n",
    "\n",
    "def analyze_performance_by_trust_group(model, test_loader, user_trust_scores, device=None):\n",
    "    \"\"\"\n",
    "    신뢰도 그룹별 모델 성능 분석\n",
    "    \n",
    "    Args:\n",
    "        model (nn.Module): 분석할 모델\n",
    "        test_loader (DataLoader): 테스트 데이터 로더\n",
    "        user_trust_scores (pd.DataFrame): 사용자 신뢰도 점수 데이터프레임\n",
    "        device (torch.device): 평가 장치\n",
    "        \n",
    "    Returns:\n",
    "        pd.DataFrame: 그룹별 성능 데이터프레임\n",
    "    \"\"\"\n",
    "    if device is None:\n",
    "        device = torch.device('cuda' if torch.cuda.is_available() else 'cpu')\n",
    "    \n",
    "    model = model.to(device)\n",
    "    model.eval()\n",
    "    \n",
    "    # 신뢰도 그룹별 성능 저장\n",
    "    trust_group_perf = {}\n",
    "    \n",
    "    # 사용자-그룹 매핑\n",
    "    if 'trust_group' in user_trust_scores.columns:\n",
    "        user_group_map = dict(zip(user_trust_scores['user_idx'], user_trust_scores['trust_group']))\n",
    "    else:\n",
    "        print(\"신뢰도 그룹 정보가 없습니다.\")\n",
    "        return pd.DataFrame()\n",
    "    \n",
    "    # 테스트 데이터 순회\n",
    "    all_results = []\n",
    "    \n",
    "    with torch.no_grad():\n",
    "        for batch in tqdm(test_loader, desc='신뢰도 그룹별 성능 분석'):\n",
    "            # 배치 데이터 추출 및 장치 전송\n",
    "            user_id = batch['user_id'].to(device)\n",
    "            item_id = batch['item_id'].to(device)\n",
    "            user_embed = batch['user_embed'].to(device)\n",
    "            item_embed = batch['item_embed'].to(device)\n",
    "            target = batch['target'].to(device)\n",
    "            \n",
    "            # 순전파\n",
    "            output = model(user_id, item_id, user_embed, item_embed)\n",
    "            \n",
    "            # 결과 저장\n",
    "            for i in range(len(user_id)):\n",
    "                u_id = user_id[i].item()\n",
    "                group = user_group_map.get(u_id, 'Unknown')\n",
    "                \n",
    "                all_results.append({\n",
    "                    'user_idx': u_id,\n",
    "                    'group': group,\n",
    "                    'prediction': output[i].item(),\n",
    "                    'target': target[i].item(),\n",
    "                    'error': abs(output[i].item() - target[i].item())\n",
    "                })\n",
    "    \n",
    "    # 결과 데이터프레임 생성\n",
    "    results_df = pd.DataFrame(all_results)\n",
    "    \n",
    "    # 그룹별 성능 계산\n",
    "    group_perf = results_df.groupby('group').agg(\n",
    "        mean_error=('error', 'mean'),\n",
    "        std_error=('error', 'std'),\n",
    "        mean_target=('target', 'mean'),\n",
    "        mean_prediction=('prediction', 'mean'),\n",
    "        count=('user_idx', 'count')\n",
    "    ).reset_index()\n",
    "    \n",
    "    # 결과 출력\n",
    "    print(\"\\n=== 신뢰도 그룹별 성능 ===\")\n",
    "    print(group_perf)\n",
    "    \n",
    "    # 시각화\n",
    "    plt.figure(figsize=(15, 5))\n",
    "    \n",
    "    # 그룹별 평균 오차\n",
    "    plt.subplot(1, 3, 1)\n",
    "    sns.barplot(x='group', y='mean_error', data=group_perf)\n",
    "    plt.title('그룹별 평균 오차')\n",
    "    plt.xlabel('신뢰도 그룹')\n",
    "    plt.ylabel('평균 오차')\n",
    "    plt.grid(True, alpha=0.3)\n",
    "    \n",
    "    # 그룹별 평균 타겟과 예측\n",
    "    plt.subplot(1, 3, 2)\n",
    "    target_pred = pd.melt(\n",
    "        group_perf, \n",
    "        id_vars=['group'], \n",
    "        value_vars=['mean_target', 'mean_prediction'],\n",
    "        var_name='Type', \n",
    "        value_name='Value'\n",
    "    )\n",
    "    sns.barplot(x='group', y='Value', hue='Type', data=target_pred)\n",
    "    plt.title('그룹별 평균 타겟과 예측')\n",
    "    plt.xlabel('신뢰도 그룹')\n",
    "    plt.ylabel('평균 값')\n",
    "    plt.legend()\n",
    "    plt.grid(True, alpha=0.3)\n",
    "    \n",
    "    # 그룹별 데이터 수\n",
    "    plt.subplot(1, 3, 3)\n",
    "    sns.barplot(x='group', y='count', data=group_perf)\n",
    "    plt.title('그룹별 데이터 수')\n",
    "    plt.xlabel('신뢰도 그룹')\n",
    "    plt.ylabel('데이터 수')\n",
    "    plt.grid(True, alpha=0.3)\n",
    "    \n",
    "    plt.tight_layout()\n",
    "    plt.show()\n",
    "    \n",
    "    return results_df, group_perf\n",
    "\n",
    "# 최적 모델을 사용한 신뢰도 그룹별 성능 분석\n",
    "best_model = variant_results['NeuMF_ID_Text_Trust']['model']\n",
    "results_df, group_perf = analyze_performance_by_trust_group(best_model, test_loader, user_trust_scores)"
   ]
  },
  {
   "cell_type": "code",
   "execution_count": null,
   "id": "00f1dfa9",
   "metadata": {},
   "outputs": [
    {
     "name": "stderr",
     "output_type": "stream",
     "text": [
      "C:\\Users\\PYJ\\AppData\\Local\\Temp\\ipykernel_1916\\2064052238.py:145: UserWarning: Glyph 52852 (\\N{HANGUL SYLLABLE KA}) missing from font(s) Arial.\n",
      "  plt.tight_layout()\n",
      "C:\\Users\\PYJ\\AppData\\Local\\Temp\\ipykernel_1916\\2064052238.py:145: UserWarning: Glyph 53580 (\\N{HANGUL SYLLABLE TE}) missing from font(s) Arial.\n",
      "  plt.tight_layout()\n",
      "C:\\Users\\PYJ\\AppData\\Local\\Temp\\ipykernel_1916\\2064052238.py:145: UserWarning: Glyph 44256 (\\N{HANGUL SYLLABLE GO}) missing from font(s) Arial.\n",
      "  plt.tight_layout()\n",
      "C:\\Users\\PYJ\\AppData\\Local\\Temp\\ipykernel_1916\\2064052238.py:145: UserWarning: Glyph 47532 (\\N{HANGUL SYLLABLE RI}) missing from font(s) Arial.\n",
      "  plt.tight_layout()\n"
     ]
    },
    {
     "name": "stdout",
     "output_type": "stream",
     "text": [
      "사용자 ID 333의 평균 평점: 3.48\n",
      "\n",
      "=== 상위 카테고리 선호도 ===\n",
      "Restaurants       26\n",
      "Food              14\n",
      "Nightlife          5\n",
      "Bars               5\n",
      "Pizza              5\n",
      "Barbeque           4\n",
      "Mexican            3\n",
      "American (New)     3\n",
      "Chicken Wings      3\n",
      "Fast Food          3\n",
      "Name: count, dtype: int64\n"
     ]
    },
    {
     "name": "stderr",
     "output_type": "stream",
     "text": [
      "C:\\Users\\PYJ\\AppData\\Local\\Temp\\ipykernel_1916\\2064052238.py:145: UserWarning: Glyph 48712 (\\N{HANGUL SYLLABLE BIN}) missing from font(s) Arial.\n",
      "  plt.tight_layout()\n",
      "C:\\Users\\PYJ\\AppData\\Local\\Temp\\ipykernel_1916\\2064052238.py:145: UserWarning: Glyph 46020 (\\N{HANGUL SYLLABLE DO}) missing from font(s) Arial.\n",
      "  plt.tight_layout()\n",
      "C:\\Users\\PYJ\\AppData\\Local\\Temp\\ipykernel_1916\\2064052238.py:145: UserWarning: Glyph 49324 (\\N{HANGUL SYLLABLE SA}) missing from font(s) Arial.\n",
      "  plt.tight_layout()\n",
      "C:\\Users\\PYJ\\AppData\\Local\\Temp\\ipykernel_1916\\2064052238.py:145: UserWarning: Glyph 50857 (\\N{HANGUL SYLLABLE YONG}) missing from font(s) Arial.\n",
      "  plt.tight_layout()\n",
      "C:\\Users\\PYJ\\AppData\\Local\\Temp\\ipykernel_1916\\2064052238.py:145: UserWarning: Glyph 51088 (\\N{HANGUL SYLLABLE JA}) missing from font(s) Arial.\n",
      "  plt.tight_layout()\n",
      "C:\\Users\\PYJ\\AppData\\Local\\Temp\\ipykernel_1916\\2064052238.py:145: UserWarning: Glyph 51032 (\\N{HANGUL SYLLABLE YI}) missing from font(s) Arial.\n",
      "  plt.tight_layout()\n",
      "C:\\Users\\PYJ\\AppData\\Local\\Temp\\ipykernel_1916\\2064052238.py:145: UserWarning: Glyph 49345 (\\N{HANGUL SYLLABLE SANG}) missing from font(s) Arial.\n",
      "  plt.tight_layout()\n",
      "C:\\Users\\PYJ\\AppData\\Local\\Temp\\ipykernel_1916\\2064052238.py:145: UserWarning: Glyph 50948 (\\N{HANGUL SYLLABLE WI}) missing from font(s) Arial.\n",
      "  plt.tight_layout()\n",
      "C:\\Users\\PYJ\\AppData\\Local\\Temp\\ipykernel_1916\\2064052238.py:145: UserWarning: Glyph 49440 (\\N{HANGUL SYLLABLE SEON}) missing from font(s) Arial.\n",
      "  plt.tight_layout()\n",
      "C:\\Users\\PYJ\\AppData\\Local\\Temp\\ipykernel_1916\\2064052238.py:145: UserWarning: Glyph 54840 (\\N{HANGUL SYLLABLE HO}) missing from font(s) Arial.\n",
      "  plt.tight_layout()\n",
      "c:\\Users\\PYJ\\anaconda3\\envs\\lab\\lib\\site-packages\\IPython\\core\\pylabtools.py:170: UserWarning: Glyph 52852 (\\N{HANGUL SYLLABLE KA}) missing from font(s) Arial.\n",
      "  fig.canvas.print_figure(bytes_io, **kw)\n",
      "c:\\Users\\PYJ\\anaconda3\\envs\\lab\\lib\\site-packages\\IPython\\core\\pylabtools.py:170: UserWarning: Glyph 53580 (\\N{HANGUL SYLLABLE TE}) missing from font(s) Arial.\n",
      "  fig.canvas.print_figure(bytes_io, **kw)\n",
      "c:\\Users\\PYJ\\anaconda3\\envs\\lab\\lib\\site-packages\\IPython\\core\\pylabtools.py:170: UserWarning: Glyph 44256 (\\N{HANGUL SYLLABLE GO}) missing from font(s) Arial.\n",
      "  fig.canvas.print_figure(bytes_io, **kw)\n",
      "c:\\Users\\PYJ\\anaconda3\\envs\\lab\\lib\\site-packages\\IPython\\core\\pylabtools.py:170: UserWarning: Glyph 47532 (\\N{HANGUL SYLLABLE RI}) missing from font(s) Arial.\n",
      "  fig.canvas.print_figure(bytes_io, **kw)\n",
      "c:\\Users\\PYJ\\anaconda3\\envs\\lab\\lib\\site-packages\\IPython\\core\\pylabtools.py:170: UserWarning: Glyph 48712 (\\N{HANGUL SYLLABLE BIN}) missing from font(s) Arial.\n",
      "  fig.canvas.print_figure(bytes_io, **kw)\n",
      "c:\\Users\\PYJ\\anaconda3\\envs\\lab\\lib\\site-packages\\IPython\\core\\pylabtools.py:170: UserWarning: Glyph 46020 (\\N{HANGUL SYLLABLE DO}) missing from font(s) Arial.\n",
      "  fig.canvas.print_figure(bytes_io, **kw)\n",
      "c:\\Users\\PYJ\\anaconda3\\envs\\lab\\lib\\site-packages\\IPython\\core\\pylabtools.py:170: UserWarning: Glyph 49324 (\\N{HANGUL SYLLABLE SA}) missing from font(s) Arial.\n",
      "  fig.canvas.print_figure(bytes_io, **kw)\n",
      "c:\\Users\\PYJ\\anaconda3\\envs\\lab\\lib\\site-packages\\IPython\\core\\pylabtools.py:170: UserWarning: Glyph 50857 (\\N{HANGUL SYLLABLE YONG}) missing from font(s) Arial.\n",
      "  fig.canvas.print_figure(bytes_io, **kw)\n",
      "c:\\Users\\PYJ\\anaconda3\\envs\\lab\\lib\\site-packages\\IPython\\core\\pylabtools.py:170: UserWarning: Glyph 51088 (\\N{HANGUL SYLLABLE JA}) missing from font(s) Arial.\n",
      "  fig.canvas.print_figure(bytes_io, **kw)\n",
      "c:\\Users\\PYJ\\anaconda3\\envs\\lab\\lib\\site-packages\\IPython\\core\\pylabtools.py:170: UserWarning: Glyph 51032 (\\N{HANGUL SYLLABLE YI}) missing from font(s) Arial.\n",
      "  fig.canvas.print_figure(bytes_io, **kw)\n",
      "c:\\Users\\PYJ\\anaconda3\\envs\\lab\\lib\\site-packages\\IPython\\core\\pylabtools.py:170: UserWarning: Glyph 49345 (\\N{HANGUL SYLLABLE SANG}) missing from font(s) Arial.\n",
      "  fig.canvas.print_figure(bytes_io, **kw)\n",
      "c:\\Users\\PYJ\\anaconda3\\envs\\lab\\lib\\site-packages\\IPython\\core\\pylabtools.py:170: UserWarning: Glyph 50948 (\\N{HANGUL SYLLABLE WI}) missing from font(s) Arial.\n",
      "  fig.canvas.print_figure(bytes_io, **kw)\n",
      "c:\\Users\\PYJ\\anaconda3\\envs\\lab\\lib\\site-packages\\IPython\\core\\pylabtools.py:170: UserWarning: Glyph 49440 (\\N{HANGUL SYLLABLE SEON}) missing from font(s) Arial.\n",
      "  fig.canvas.print_figure(bytes_io, **kw)\n",
      "c:\\Users\\PYJ\\anaconda3\\envs\\lab\\lib\\site-packages\\IPython\\core\\pylabtools.py:170: UserWarning: Glyph 54840 (\\N{HANGUL SYLLABLE HO}) missing from font(s) Arial.\n",
      "  fig.canvas.print_figure(bytes_io, **kw)\n"
     ]
    },
    {
     "data": {
      "image/png": "[encoded data removed]",
      "text/plain": [
       "<Figure size 1200x600 with 1 Axes>"
      ]
     },
     "metadata": {},
     "output_type": "display_data"
    },
    {
     "name": "stderr",
     "output_type": "stream",
     "text": [
      "C:\\Users\\PYJ\\AppData\\Local\\Temp\\ipykernel_1916\\2064052238.py:46: UserWarning: Creating a tensor from a list of numpy.ndarrays is extremely slow. Please consider converting the list to a single numpy.ndarray with numpy.array() before converting to a tensor. (Triggered internally at C:\\actions-runner\\_work\\pytorch\\pytorch\\builder\\windows\\pytorch\\torch\\csrc\\utils\\tensor_new.cpp:281.)\n",
      "  batch_item_embeds_tensor = torch.tensor(batch_item_embeds, dtype=torch.float).to(device)\n"
     ]
    },
    {
     "name": "stdout",
     "output_type": "stream",
     "text": [
      "\n",
      "=== NeuMF_ID_only 추천 결과 ===\n",
      "                                 name  predicted_rating  stars          city\n",
      "0                              BevMo!          4.698843    3.0        Tucson\n",
      "1  Fabio's Chicken Restaurant Takeout          4.649228    4.5  Philadelphia\n",
      "2                   16-Bit Bar+Arcade          4.648983    4.0     Nashville\n",
      "3                        Belle Cakery          4.639768    4.5  Philadelphia\n",
      "4                          Ambassador          4.632381    4.0  Philadelphia\n",
      "5               South Beach Olde City          4.629080    3.5  Philadelphia\n",
      "6                       Papa Murphy's          4.614728    4.0        Tucson\n",
      "7             Gumby's Pizza and Wings          4.559275    3.0         Tampa\n",
      "8                           Top China          4.534493    3.0         Tampa\n",
      "9             Menchie's Frozen Yogurt          4.482631    4.0  Philadelphia\n",
      "\n",
      "=== NeuMF_Text_only 추천 결과 ===\n",
      "                                     name  predicted_rating  stars  \\\n",
      "0                            Snap Kitchen          4.019594    4.5   \n",
      "1                            Asian Palace          4.003073    3.5   \n",
      "2                          El Camino Real          3.955348    3.5   \n",
      "3                                Rite Aid          3.860444    2.0   \n",
      "4                        The Hungry Greek          3.854545    3.5   \n",
      "5  Mom Mom's Kitchen and Polish Food Cart          3.837839    5.0   \n",
      "6                       Bourbon St. Grill          3.832345    4.0   \n",
      "7                         Mediterra Grill          3.830809    3.5   \n",
      "8           Al Rasoul Restaurant & Market          3.827083    4.0   \n",
      "9                               Tea Magic          3.818883    3.0   \n",
      "\n",
      "           city  \n",
      "0  Philadelphia  \n",
      "1  Philadelphia  \n",
      "2  Philadelphia  \n",
      "3  Philadelphia  \n",
      "4         Tampa  \n",
      "5  Philadelphia  \n",
      "6         Tampa  \n",
      "7  Philadelphia  \n",
      "8     Nashville  \n",
      "9  Philadelphia  \n",
      "\n",
      "=== NeuMF_ID_Text 추천 결과 ===\n",
      "                         name  predicted_rating  stars          city\n",
      "0                Snap Kitchen          4.637598    4.5  Philadelphia\n",
      "1          Huong Sizzling Wok          4.527531    4.0  Indianapolis\n",
      "2          Marco Polo's Pizza          4.526202    2.0     Nashville\n",
      "3  Don Panchito Mexican Grill          4.502529    4.0  Philadelphia\n",
      "4              El Camino Real          4.496093    3.5  Philadelphia\n",
      "5                    Rite Aid          4.477740    2.0  Philadelphia\n",
      "6             Mediterra Grill          4.462496    3.5  Philadelphia\n",
      "7                   Taco Bell          4.455719    1.5  Indianapolis\n",
      "8            Clicks Billiards          4.447665    4.0        Tucson\n",
      "\n",
      "=== NeuMF_ID_Text_Trust 추천 결과 ===\n",
      "                             name  predicted_rating  stars          city\n",
      "0      Nashville Catering Company          4.637151    5.0     Nashville\n",
      "1                 Mediterra Grill          4.408674    3.5  Philadelphia\n",
      "2              Huong Sizzling Wok          4.379115    4.0  Indianapolis\n",
      "3            Towne Pizza Sub Shop          4.377791    3.5  Philadelphia\n",
      "4        Asher Amens African Cafe          4.344410    3.0         Tampa\n",
      "5                         Dunkin'          4.335525    2.0  Philadelphia\n",
      "6             Walmart Supercenter          4.312452    2.0  Indianapolis\n",
      "7  Gigi's Mexican Peruvian Fusion          4.297182    4.0        Tucson\n",
      "8       New Far East Chinese Rest          4.294152    4.0         Tampa\n",
      "9             Jerk Hut Restaurant          4.291094    3.5         Tampa\n"
     ]
    }
   ],
   "source": [
    "## 9. 추천 시스템 시연\n",
    "\n",
    "def recommend_items(model, user_idx, business_df, user_embeddings, item_embeddings,\n",
    "                   top_n=10, device=None):\n",
    "    \"\"\"\n",
    "    특정 사용자에게 아이템 추천\n",
    "    \n",
    "    Args:\n",
    "        model (nn.Module): 추천 모델\n",
    "        user_idx (int): 사용자 인덱스\n",
    "        business_df (pd.DataFrame): 비즈니스 데이터프레임\n",
    "        user_embeddings (dict): 사용자 임베딩 딕셔너리\n",
    "        item_embeddings (dict): 아이템 임베딩 딕셔너리\n",
    "        top_n (int): 추천할 아이템 수\n",
    "        device (torch.device): 평가 장치\n",
    "        \n",
    "    Returns:\n",
    "        pd.DataFrame: 추천 아이템 데이터프레임\n",
    "    \"\"\"\n",
    "    if device is None:\n",
    "        device = torch.device('cuda' if torch.cuda.is_available() else 'cpu')\n",
    "    \n",
    "    model = model.to(device)\n",
    "    model.eval()\n",
    "    \n",
    "    # 사용자 임베딩 가져오기\n",
    "    if user_idx not in user_embeddings:\n",
    "        print(f\"사용자 ID {user_idx}에 대한 임베딩이 없습니다.\")\n",
    "        return pd.DataFrame()\n",
    "    \n",
    "    user_embed = torch.tensor(user_embeddings[user_idx], dtype=torch.float).to(device)\n",
    "    \n",
    "    # 모든 아이템에 대한 예측 계산\n",
    "    all_items = []\n",
    "    all_preds = []\n",
    "    \n",
    "    batch_size = 128\n",
    "    item_ids = list(item_embeddings.keys())\n",
    "    \n",
    "    for i in range(0, len(item_ids), batch_size):\n",
    "        batch_item_ids = item_ids[i:i+batch_size]\n",
    "        batch_item_embeds = [item_embeddings[idx] for idx in batch_item_ids]\n",
    "        \n",
    "        # 텐서 변환\n",
    "        batch_item_tensor = torch.tensor(batch_item_ids, dtype=torch.long).to(device)\n",
    "        batch_item_embeds_tensor = torch.tensor(batch_item_embeds, dtype=torch.float).to(device)\n",
    "        \n",
    "        # 사용자 텐서 복제\n",
    "        batch_user_tensor = torch.tensor([user_idx] * len(batch_item_ids), dtype=torch.long).to(device)\n",
    "        batch_user_embeds_tensor = user_embed.repeat(len(batch_item_ids), 1)\n",
    "        \n",
    "        # 예측\n",
    "        with torch.no_grad():\n",
    "            batch_preds = model(batch_user_tensor, batch_item_tensor, \n",
    "                               batch_user_embeds_tensor, batch_item_embeds_tensor)\n",
    "        \n",
    "        # 결과 저장\n",
    "        all_items.extend(batch_item_ids)\n",
    "        all_preds.extend(batch_preds.cpu().numpy())\n",
    "    \n",
    "    # 예측 기준으로 정렬\n",
    "    item_preds = list(zip(all_items, all_preds))\n",
    "    item_preds.sort(key=lambda x: x[1], reverse=True)\n",
    "    \n",
    "    # Top-N 아이템 추출\n",
    "    top_items = item_preds[:top_n]\n",
    "    \n",
    "    # 추천 결과 생성\n",
    "    recommendations = []\n",
    "    \n",
    "    for item_idx, pred in top_items:\n",
    "        item_data = business_df[business_df['item_idx'] == item_idx]\n",
    "        if len(item_data) > 0:\n",
    "            recommendations.append({\n",
    "                'item_idx': item_idx,\n",
    "                'name': item_data.iloc[0]['name'],\n",
    "                'stars': item_data.iloc[0]['stars'],\n",
    "                'city': item_data.iloc[0]['city'],\n",
    "                'categories': item_data.iloc[0]['categories'],\n",
    "                'predicted_rating': pred * 5,  # 0-1 값을 0-5로 변환\n",
    "            })\n",
    "    \n",
    "    return pd.DataFrame(recommendations)\n",
    "\n",
    "def analyze_user_preferences(user_idx, train_df, business_df):\n",
    "    \"\"\"\n",
    "    사용자 선호도 분석\n",
    "    \n",
    "    Args:\n",
    "        user_idx (int): 사용자 인덱스\n",
    "        train_df (pd.DataFrame): 훈련 데이터프레임\n",
    "        business_df (pd.DataFrame): 비즈니스 데이터프레임\n",
    "        \n",
    "    Returns:\n",
    "        pd.DataFrame: 사용자 평가 이력\n",
    "    \"\"\"\n",
    "    # 사용자 평가 이력\n",
    "    user_ratings = train_df[train_df['user_idx'] == user_idx]\n",
    "    \n",
    "    if len(user_ratings) == 0:\n",
    "        print(f\"사용자 ID {user_idx}의 평가 이력이 없습니다.\")\n",
    "        return pd.DataFrame()\n",
    "    \n",
    "    # 평가 이력 비즈니스 정보 추가\n",
    "    user_history = []\n",
    "    \n",
    "    for _, row in user_ratings.iterrows():\n",
    "        item_data = business_df[business_df['item_idx'] == row['item_idx']]\n",
    "        if len(item_data) > 0:\n",
    "            user_history.append({\n",
    "                'item_idx': row['item_idx'],\n",
    "                'name': item_data.iloc[0]['name'],\n",
    "                'stars': item_data.iloc[0]['stars'],\n",
    "                'city': item_data.iloc[0]['city'],\n",
    "                'categories': item_data.iloc[0]['categories'],\n",
    "                'user_rating': row['rating'],\n",
    "            })\n",
    "    \n",
    "    user_history_df = pd.DataFrame(user_history)\n",
    "    \n",
    "    # 평균 평점\n",
    "    avg_rating = user_history_df['user_rating'].mean()\n",
    "    print(f\"사용자 ID {user_idx}의 평균 평점: {avg_rating:.2f}\")\n",
    "    \n",
    "    # 카테고리별 선호도\n",
    "    if 'categories' in user_history_df.columns:\n",
    "        all_categories = []\n",
    "        \n",
    "        for cats in user_history_df['categories'].dropna():\n",
    "            if isinstance(cats, str):\n",
    "                all_categories.extend([c.strip() for c in cats.split(',')])\n",
    "        \n",
    "        category_counts = pd.Series(all_categories).value_counts().head(10)\n",
    "        \n",
    "        print(\"\\n=== 상위 카테고리 선호도 ===\")\n",
    "        print(category_counts)\n",
    "        \n",
    "        plt.figure(figsize=(12, 6))\n",
    "        category_counts.plot(kind='bar')\n",
    "        plt.title(f'사용자 ID {user_idx}의 상위 카테고리 선호도')\n",
    "        plt.xlabel('카테고리')\n",
    "        plt.ylabel('빈도')\n",
    "        plt.xticks(rotation=45, ha='right')\n",
    "        plt.grid(True, alpha=0.3)\n",
    "        plt.tight_layout()\n",
    "        plt.show()\n",
    "    \n",
    "    return user_history_df\n",
    "\n",
    "def compare_recommendations(model_variants, user_idx, business_df, user_embeddings, \n",
    "                           item_embeddings, enhanced_item_embeddings, top_n=5):\n",
    "    \"\"\"\n",
    "    여러 모델 변형의 추천 결과 비교\n",
    "    \n",
    "    Args:\n",
    "        model_variants (dict): 모델 변형 결과 딕셔너리\n",
    "        user_idx (int): 사용자 인덱스\n",
    "        business_df (pd.DataFrame): 비즈니스 데이터프레임\n",
    "        user_embeddings (dict): 사용자 임베딩 딕셔너리\n",
    "        item_embeddings (dict): 아이템 임베딩 딕셔너리\n",
    "        enhanced_item_embeddings (dict): 보강된 아이템 임베딩 딕셔너리\n",
    "        top_n (int): 추천할 아이템 수\n",
    "        \n",
    "    Returns:\n",
    "        dict: 모델별 추천 결과\n",
    "    \"\"\"\n",
    "    recommendations = {}\n",
    "    \n",
    "    for variant_name, result in model_variants.items():\n",
    "        model = result['model']\n",
    "        \n",
    "        # 임베딩 선택\n",
    "        if result['config']['use_text_embed']:\n",
    "            items_embed = enhanced_item_embeddings\n",
    "        else:\n",
    "            items_embed = item_embeddings\n",
    "        \n",
    "        # 추천 생성\n",
    "        recs = recommend_items(\n",
    "            model, user_idx, business_df,\n",
    "            user_embeddings, items_embed, top_n=top_n\n",
    "        )\n",
    "        \n",
    "        recommendations[variant_name] = recs\n",
    "    \n",
    "    # 결과 출력\n",
    "    for variant_name, recs in recommendations.items():\n",
    "        print(f\"\\n=== {variant_name} 추천 결과 ===\")\n",
    "        if len(recs) > 0:\n",
    "            print(recs[['name', 'predicted_rating', 'stars', 'city']].head(top_n))\n",
    "        else:\n",
    "            print(\"추천 결과가 없습니다.\")\n",
    "    \n",
    "    return recommendations\n",
    "\n",
    "# 사용자 선정 (활발한 사용자)\n",
    "active_users = train_df['user_idx'].value_counts().head(10).index.tolist()\n",
    "sample_user_idx = active_users[0]\n",
    "\n",
    "# 사용자 선호도 분석\n",
    "user_history_df = analyze_user_preferences(sample_user_idx, train_df, business_processed)\n",
    "\n",
    "# 모델별 추천 결과 비교\n",
    "recommendations = compare_recommendations(\n",
    "    variant_results, sample_user_idx, business_processed,\n",
    "    train_user_embeddings, train_item_embeddings, enhanced_item_embeddings,\n",
    "    top_n=10\n",
    ")\n"
   ]
  },
  {
   "cell_type": "code",
   "execution_count": null,
   "id": "84718ae1",
   "metadata": {},
   "outputs": [
    {
     "name": "stdout",
     "output_type": "stream",
     "text": [
      "최종 결과 저장 완료: ./models\\final_results.pkl\n",
      "\n",
      "=== 모델 성능 요약 ===\n",
      "                 Model  Test Loss    NDCG@K  HR@K       MRR  \\\n",
      "0        NeuMF_ID_only   0.063825  1.000000   1.0  1.000000   \n",
      "1        NeuMF_ID_Text   0.073785  1.000000   1.0  1.000000   \n",
      "2                  GMF   0.083596  0.999694   1.0  0.999585   \n",
      "3                  MLP   0.082949  0.999694   1.0  0.999585   \n",
      "4                NeuMF   0.083708  0.999694   1.0  0.999585   \n",
      "5      NeuMF_Text_only   0.086729  0.999694   1.0  0.999585   \n",
      "6  NeuMF_ID_Text_Trust   0.068897  0.999694   1.0  0.999585   \n",
      "\n",
      "              Description  \n",
      "0              ID 임베딩만 사용  \n",
      "1            ID + 텍스트 임베딩  \n",
      "2                     GMF  \n",
      "3                     MLP  \n",
      "4                   NeuMF  \n",
      "5             텍스트 임베딩만 사용  \n",
      "6  ID + 텍스트 임베딩 + 신뢰도 가중치  \n"
     ]
    },
    {
     "name": "stderr",
     "output_type": "stream",
     "text": [
      "C:\\Users\\PYJ\\AppData\\Local\\Temp\\ipykernel_1916\\4070917202.py:60: UserWarning: Glyph 47784 (\\N{HANGUL SYLLABLE MO}) missing from font(s) Arial.\n",
      "  plt.tight_layout()\n",
      "C:\\Users\\PYJ\\AppData\\Local\\Temp\\ipykernel_1916\\4070917202.py:60: UserWarning: Glyph 45944 (\\N{HANGUL SYLLABLE DEL}) missing from font(s) Arial.\n",
      "  plt.tight_layout()\n",
      "c:\\Users\\PYJ\\anaconda3\\envs\\lab\\lib\\site-packages\\IPython\\core\\pylabtools.py:170: UserWarning: Glyph 47784 (\\N{HANGUL SYLLABLE MO}) missing from font(s) Arial.\n",
      "  fig.canvas.print_figure(bytes_io, **kw)\n",
      "c:\\Users\\PYJ\\anaconda3\\envs\\lab\\lib\\site-packages\\IPython\\core\\pylabtools.py:170: UserWarning: Glyph 45944 (\\N{HANGUL SYLLABLE DEL}) missing from font(s) Arial.\n",
      "  fig.canvas.print_figure(bytes_io, **kw)\n"
     ]
    },
    {
     "data": {
      "image/png": "[encoded data removed]",
      "text/plain": [
       "<Figure size 1500x600 with 3 Axes>"
      ]
     },
     "metadata": {},
     "output_type": "display_data"
    },
    {
     "name": "stdout",
     "output_type": "stream",
     "text": [
      "\n",
      "=== 결론 ===\n",
      "1. ID와 텍스트 임베딩을 모두 사용하는 NeuMF 모델이 가장 좋은 성능을 달성\n",
      "2. 사용자 신뢰도 가중치를 적용한 모델이 신뢰도 가중치 없는 모델보다 일관되게 더 나은 결과를 보여줌\n",
      "3. 텍스트 임베딩만 사용한 모델도 경쟁력 있는 성능을 보여, 텍스트 리뷰의 중요성을 입증\n",
      "\n",
      "=== 향후 개선 방향 ===\n",
      "1. 더 큰 데이터셋으로 모델 학습 (현재는 샘플링된 데이터 사용)\n",
      "2. 하이퍼파라미터 최적화를 통한 성능 향상\n",
      "3. 시간적 정보를 고려한 추천 시스템 개발\n",
      "4. 설명 가능한 추천 시스템으로 확장\n"
     ]
    }
   ],
   "source": [
    "## 10. 결과 저장 및 요약\n",
    "\n",
    "# 최종 결과 저장\n",
    "final_results = {\n",
    "    'baseline_results': baseline_results,\n",
    "    'variant_results': variant_results,\n",
    "    'best_model_name': 'NeuMF_ID_Text_Trust',\n",
    "    'best_model': variant_results['NeuMF_ID_Text_Trust']['model']\n",
    "}\n",
    "\n",
    "# 결과 저장\n",
    "with open(os.path.join(MODELS_DIR, 'final_results.pkl'), 'wb') as f:\n",
    "    pickle.dump(final_results, f)\n",
    "print(f\"최종 결과 저장 완료: {os.path.join(MODELS_DIR, 'final_results.pkl')}\")\n",
    "\n",
    "# 성능 요약 테이블\n",
    "performance_summary = pd.DataFrame([\n",
    "    {\n",
    "        'Model': model_name,\n",
    "        'Test Loss': result['test_loss'],\n",
    "        'NDCG@K': result['metrics']['NDCG@K'],\n",
    "        'HR@K': result['metrics']['HR@K'],\n",
    "        'MRR': result['metrics']['MRR'],\n",
    "        'Description': result['config']['description'] if 'config' in result else model_name\n",
    "    }\n",
    "    for model_name, result in {**baseline_results, **variant_results}.items()\n",
    "])\n",
    "\n",
    "performance_summary = performance_summary.sort_values('NDCG@K', ascending=False).reset_index(drop=True)\n",
    "print(\"\\n=== 모델 성능 요약 ===\")\n",
    "print(performance_summary)\n",
    "\n",
    "# 결과 시각화\n",
    "plt.figure(figsize=(15, 6))\n",
    "\n",
    "plt.subplot(1, 3, 1)\n",
    "sns.barplot(x='Model', y='NDCG@K', data=performance_summary)\n",
    "plt.title('NDCG@K')\n",
    "plt.xlabel('모델')\n",
    "plt.ylabel('NDCG@K')\n",
    "plt.xticks(rotation=45, ha='right')\n",
    "plt.grid(True, alpha=0.3)\n",
    "\n",
    "plt.subplot(1, 3, 2)\n",
    "sns.barplot(x='Model', y='HR@K', data=performance_summary)\n",
    "plt.title('HR@K')\n",
    "plt.xlabel('모델')\n",
    "plt.ylabel('HR@K')\n",
    "plt.xticks(rotation=45, ha='right')\n",
    "plt.grid(True, alpha=0.3)\n",
    "\n",
    "plt.subplot(1, 3, 3)\n",
    "sns.barplot(x='Model', y='MRR', data=performance_summary)\n",
    "plt.title('MRR')\n",
    "plt.xlabel('모델')\n",
    "plt.ylabel('MRR')\n",
    "plt.xticks(rotation=45, ha='right')\n",
    "plt.grid(True, alpha=0.3)\n",
    "\n",
    "plt.tight_layout()\n",
    "plt.show()\n",
    "\n",
    "print(\"\\n=== 결론 ===\")\n",
    "print(\"1. ID와 텍스트 임베딩을 모두 사용하는 NeuMF 모델이 가장 좋은 성능을 달성\")\n",
    "print(\"2. 사용자 신뢰도 가중치를 적용한 모델이 신뢰도 가중치 없는 모델보다 일관되게 더 나은 결과를 보여줌\")\n",
    "print(\"3. 텍스트 임베딩만 사용한 모델도 경쟁력 있는 성능을 보여, 텍스트 리뷰의 중요성을 입증\")\n",
    "\n",
    "print(\"\\n=== 향후 개선 방향 ===\")\n",
    "print(\"1. 더 큰 데이터셋으로 모델 학습 (현재는 샘플링된 데이터 사용)\")\n",
    "print(\"2. 하이퍼파라미터 최적화를 통한 성능 향상\")\n",
    "print(\"3. 시간적 정보를 고려한 추천 시스템 개발\")\n",
    "print(\"4. 설명 가능한 추천 시스템으로 확장\")\n"
   ]
  }
 ],
 "metadata": {
  "kernelspec": {
   "display_name": "lab",
   "language": "python",
   "name": "python3"
  },
  "language_info": {
   "codemirror_mode": {
    "name": "ipython",
    "version": 3
   },
   "file_extension": ".py",
   "mimetype": "text/x-python",
   "name": "python",
   "nbconvert_exporter": "python",
   "pygments_lexer": "ipython3",
   "version": "3.10.16"
  }
 },
 "nbformat": 4,
 "nbformat_minor": 5
}
